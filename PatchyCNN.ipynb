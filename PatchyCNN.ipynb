{
 "cells": [
  {
   "cell_type": "code",
   "execution_count": 2,
   "metadata": {},
   "outputs": [],
   "source": [
    "import os\n",
    "import sys\n",
    "import pandas as pd\n",
    "import numpy as np\n",
    "from sklearn.model_selection import train_test_split\n",
    "from time import time\n",
    "import networkx as nx\n",
    "from PIL import Image\n",
    "import matplotlib.pyplot as plt\n",
    "%matplotlib inline\n",
    "\n",
    "import keras\n",
    "from keras.layers import Dense, Flatten\n",
    "from keras.layers import Conv2D, MaxPooling2D,Dropout\n",
    "from keras.models import Sequential\n",
    "from keras import layers, models, optimizers\n",
    "from keras import backend as K\n",
    "K.set_image_data_format('channels_last')\n",
    "from keras.utils import to_categorical\n",
    "from keras.preprocessing.image import ImageDataGenerator\n",
    "from keras import callbacks\n",
    "from keras_tqdm import TQDMNotebookCallback\n",
    "\n",
    "\n",
    "from utils import combine_images\n",
    "from utils import plot_log\n",
    "\n",
    "from capsulelayers import CapsuleLayer, PrimaryCap, Length, Mask\n",
    "sys.path.append('./PatchyTools/')\n",
    "from GraphConverter import GraphConverter\n",
    "from DropboxLoader import DropboxLoader\n",
    "from CapsuleParameters import CapsuleParameters\n",
    "from CapsuleParameters import CapsuleTrainingParameters\n",
    "from GraphClassifier import GraphClassifier"
   ]
  },
  {
   "cell_type": "markdown",
   "metadata": {},
   "source": [
    "### Load data"
   ]
  },
  {
   "cell_type": "code",
   "execution_count": 13,
   "metadata": {},
   "outputs": [
    {
     "name": "stdout",
     "output_type": "stream",
     "text": [
      "MUTAG tensor exists, loading it from Dropbox\n"
     ]
    }
   ],
   "source": [
    "    \n",
    "# Getting the data:\n",
    "dataset_name = 'MUTAG'\n",
    "width = 18\n",
    "receptive_field = 10\n",
    "PatchyConverter = GraphConverter(dataset_name, width, receptive_field)\n",
    "PatchyConverter.relabel_nodes()\n",
    "graph_tensor = PatchyConverter.graphs_to_Patchy_tensor()\n",
    "# plt.imshow(mutag_tensor[0,:,:,2])\n",
    "\n",
    "# Getting the labels:\n",
    "dropbox_loader = DropboxLoader(dataset_name)\n",
    "graph_labels = dropbox_loader.get_graph_label()\n",
    "graph_labels = np.array(graph_labels.graph_label)\n",
    "\n",
    "# Assigning the data:\n",
    "x_train, x_test, y_train, y_test = train_test_split(graph_tensor, graph_labels, test_size=0.10)\n",
    "data = ((x_train,y_train),(x_test, y_test))\n",
    "input_shape = x_train.shape[1:]"
   ]
  },
  {
   "cell_type": "code",
   "execution_count": 14,
   "metadata": {},
   "outputs": [
    {
     "name": "stdout",
     "output_type": "stream",
     "text": [
      "17.930851063829788\n"
     ]
    }
   ],
   "source": [
    "x = PatchyConverter.get_average_num_nodes()\n",
    "print(x)"
   ]
  },
  {
   "cell_type": "code",
   "execution_count": null,
   "metadata": {
    "collapsed": true
   },
   "outputs": [],
   "source": []
  },
  {
   "cell_type": "code",
   "execution_count": null,
   "metadata": {
    "collapsed": true
   },
   "outputs": [],
   "source": [
    "class AccuracyHistory(keras.callbacks.Callback):\n",
    "    def on_train_begin(self, logs={}):\n",
    "        self.acc = []\n",
    "        self.val_acc = []\n",
    "\n",
    "    def on_epoch_end(self, batch, logs={}):\n",
    "        self.acc.append(logs.get('acc'))\n",
    "        self.val_acc.append(logs.get('val_acc'))\n",
    "\n",
    "\n",
    "\n",
    "class ConvNetPatchy(object):\n",
    "    def __init__(self,graph_tensor, graph_labels):\n",
    "        self.graph_tensor = graph_tensor\n",
    "        self.graph_labels = graph_labels\n",
    "        self.name = 'cnn'\n",
    "        self.input_shape = graph_tensor.shape[1:]\n",
    "        self.n_class = len(np.unique(graph_labels))\n",
    "        \n",
    "    def split_data(self,random_state = 42, test_size = 0.10):\n",
    "        self.x_train, self.x_test, self.y_train, self.y_test = train_test_split(self.graph_tensor, self.graph_labels, test_size=test_size,random_state = random_state)\n",
    "        self.y_train = pd.get_dummies(self.y_train).values\n",
    "        self.y_test = pd.get_dummies(self.y_test).values\n",
    "            \n",
    "    def build_graph(self,):\n",
    "        \n",
    "        K.clear_session()\n",
    "        self.model = Sequential()\n",
    "        self.model.add(Conv2D(16, kernel_size=(5, 5), strides=(1, 1), activation='relu',input_shape=self.input_shape))\n",
    "        #model.add(MaxPooling2D(pool_size=(2, 2), strides=(2, 2)))\n",
    "        self.model.add(Conv2D(8, kernel_size=(5, 5), activation='relu'))\n",
    "        #model.add(MaxPooling2D(pool_size=(2, 2)))\n",
    "        self.model.add(Flatten())\n",
    "        self.model.add(Dense(128, activation='relu'))\n",
    "        self.model.add(Dropout(0.75))\n",
    "        self.model.add(Dense(self.n_class, activation='softmax'))\n",
    "        \n",
    "    def train_model(self,epochs = 200, batch_size = 100,verbose = 0):\n",
    "        self.epochs = epochs\n",
    "        self.history = AccuracyHistory()\n",
    "        self.model.compile(loss=keras.losses.categorical_crossentropy,\n",
    "              optimizer=keras.optimizers.Adam(decay=1e-6),\n",
    "              metrics=['accuracy'])\n",
    "        \n",
    "        self.model.fit(self.x_train, self.y_train,\n",
    "                       batch_size=batch_size,\n",
    "                       epochs=epochs,\n",
    "                       verbose=verbose,\n",
    "                       validation_data=(self.x_test, self.y_test),\n",
    "                       callbacks=[self.history])\n",
    "        self.final_acc = self.history.acc[-1]        \n",
    "        self.final_val_acc = self.history.val_acc[-1]\n"
   ]
  },
  {
   "cell_type": "code",
   "execution_count": null,
   "metadata": {
    "collapsed": true
   },
   "outputs": [],
   "source": [
    "# x_train, x_test, y_train, y_test = train_test_split(mutag_tensor, mutag_labels, test_size=0.10)\n",
    "# y_train = pd.get_dummies(y_train).values\n",
    "# y_test = pd.get_dummies(y_test).values\n",
    "\n",
    "\n",
    "# batch_size = 100\n",
    "# num_classes= y_train.shape[1]\n",
    "# epochs = 200\n",
    "# input_shape = x_train.shape[1:]\n"
   ]
  },
  {
   "cell_type": "code",
   "execution_count": null,
   "metadata": {},
   "outputs": [],
   "source": [
    "val_acc = []\n",
    "for j in range(1):\n",
    "    # Starting Conv net with Patchy\n",
    "    patchy_cnn = ConvNetPatchy(graph_tensor, graph_labels)\n",
    "    patchy_cnn.split_data(random_state = j)\n",
    "    patchy_cnn.build_graph()\n",
    "    patchy_cnn.train_model(epochs=400)\n",
    "    print('Fold {} completed with val acc : {}'.format(j,patchy_cnn.final_val_acc))\n",
    "    \n",
    "    val_acc.append(patchy_cnn.final_val_acc)"
   ]
  },
  {
   "cell_type": "code",
   "execution_count": null,
   "metadata": {},
   "outputs": [],
   "source": [
    "print('avg val accuracy: {}'.format(np.mean(val_acc)))\n",
    "print('std val accuracy: {}'.format(np.std(val_acc)))\n",
    "      "
   ]
  },
  {
   "cell_type": "code",
   "execution_count": null,
   "metadata": {},
   "outputs": [],
   "source": [
    "score = patchy_cnn.model.evaluate(patchy_cnn.x_test, patchy_cnn.y_test, verbose=0)\n",
    "print('Test loss:', score[0])\n",
    "print('Test accuracy:', score[1])\n",
    "\n",
    "plt.plot(range(patchy_cnn.epochs), patchy_cnn.history.acc)\n",
    "plt.legend('train data',loc='lower center')\n",
    "plt.plot(range(patchy_cnn.epochs), patchy_cnn.history.val_acc)\n",
    "plt.legend('test data')\n",
    "plt.xlabel('Epochs')\n",
    "plt.ylabel('Accuracy')\n",
    "plt.show()"
   ]
  },
  {
   "cell_type": "code",
   "execution_count": null,
   "metadata": {
    "collapsed": true
   },
   "outputs": [],
   "source": []
  },
  {
   "cell_type": "code",
   "execution_count": null,
   "metadata": {
    "collapsed": true
   },
   "outputs": [],
   "source": []
  },
  {
   "cell_type": "code",
   "execution_count": null,
   "metadata": {
    "collapsed": true
   },
   "outputs": [],
   "source": []
  },
  {
   "cell_type": "code",
   "execution_count": null,
   "metadata": {
    "collapsed": true
   },
   "outputs": [],
   "source": []
  }
 ],
 "metadata": {
  "kernelspec": {
   "display_name": "Python 3",
   "language": "python",
   "name": "python3"
  },
  "language_info": {
   "codemirror_mode": {
    "name": "ipython",
    "version": 3
   },
   "file_extension": ".py",
   "mimetype": "text/x-python",
   "name": "python",
   "nbconvert_exporter": "python",
   "pygments_lexer": "ipython3",
   "version": "3.6.3"
  }
 },
 "nbformat": 4,
 "nbformat_minor": 2
}
