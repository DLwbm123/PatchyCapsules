{
 "cells": [
  {
   "cell_type": "code",
   "execution_count": 2,
   "metadata": {},
   "outputs": [],
   "source": [
    "import os\n",
    "import sys\n",
    "import pandas as pd\n",
    "import numpy as np\n",
    "from sklearn.model_selection import train_test_split\n",
    "from time import time\n",
    "import networkx as nx\n",
    "from PIL import Image\n",
    "import matplotlib.pyplot as plt\n",
    "%matplotlib inline\n",
    "\n",
    "import keras\n",
    "from keras.layers import Dense, Flatten\n",
    "from keras.layers import Conv2D, MaxPooling2D,Dropout\n",
    "from keras.models import Sequential\n",
    "from keras import layers, models, optimizers\n",
    "from keras import backend as K\n",
    "K.set_image_data_format('channels_last')\n",
    "from keras.utils import to_categorical\n",
    "from keras.preprocessing.image import ImageDataGenerator\n",
    "from keras import callbacks\n",
    "from keras_tqdm import TQDMNotebookCallback\n",
    "\n",
    "\n",
    "from utils import combine_images\n",
    "from utils import plot_log\n",
    "\n",
    "from capsulelayers import CapsuleLayer, PrimaryCap, Length, Mask\n",
    "sys.path.append('./PatchyTools/')\n",
    "from GraphConverter import GraphConverter\n",
    "from DropboxLoader import DropboxLoader\n",
    "from CapsuleParameters import CapsuleParameters\n",
    "from CapsuleParameters import CapsuleTrainingParameters\n",
    "from GraphClassifier import GraphClassifier\n",
    "from ConvNetPatchy import ConvNetPatchy"
   ]
  },
  {
   "cell_type": "markdown",
   "metadata": {},
   "source": [
    "### Load data"
   ]
  },
  {
   "cell_type": "code",
   "execution_count": 3,
   "metadata": {},
   "outputs": [
    {
     "name": "stdout",
     "output_type": "stream",
     "text": [
      "PTC_FM graph tensor non exisiting at : /Users/marcelogutierrez/.gamma_link/Samples/PTC_FM/PTC_FM_patchy_tensor_w_15.npy\n",
      "Create dictionary of graphs\n",
      "Canonical Labeling\n",
      "Getting the Neighboors \n",
      "Neighboors to Tensor\n",
      "PTC_FM graph tensor created at: /Users/marcelogutierrez/.gamma_link/Samples/PTC_FM/PTC_FM_patchy_tensor_w_15.npy\n"
     ]
    }
   ],
   "source": [
    "# Getting the data:\n",
    "# Getting the data:\n",
    "dataset_name = 'PTC_FM'\n",
    "width = 18\n",
    "receptive_field = 10\n",
    "relabeling = True"
   ]
  },
  {
   "cell_type": "code",
   "execution_count": null,
   "metadata": {
    "collapsed": true
   },
   "outputs": [],
   "source": [
    "# Converting Graphs into Matrices:\n",
    "PatchyConverter = GraphConverter(dataset_name, receptive_field, GRAPH_RELABEL_NAME)\n",
    "if relabelling:\n",
    "    PatchyConverter.relabel_graphs()\n",
    "\n",
    "graph_tensor = PatchyConverter.graphs_to_Patchy_tensor()\n",
    "avg_nodes_per_graph = PatchyConverter.avg_nodes_per_graph\n",
    "\n",
    "# Getting the labels:\n",
    "dropbox_loader = DropboxLoader(dataset_name)\n",
    "graph_labels = dropbox_loader.get_graph_label()\n",
    "graph_labels = np.array(graph_labels.graph_label)\n"
   ]
  },
  {
   "cell_type": "code",
   "execution_count": 5,
   "metadata": {},
   "outputs": [
    {
     "name": "stdout",
     "output_type": "stream",
     "text": [
      "Fold 0 completed with val acc : 0.5428571701049805\n"
     ]
    }
   ],
   "source": [
    "val_acc = []\n",
    "for j in range(1):\n",
    "    # Starting Conv net with Patchy\n",
    "    patchy_cnn = ConvNetPatchy(graph_tensor, graph_labels)\n",
    "    patchy_cnn.split_data(random_state = j)\n",
    "    patchy_cnn.build_graph()\n",
    "    patchy_cnn.train_model(epochs=200)\n",
    "    print('Fold {} completed with val acc : {}'.format(j,patchy_cnn.final_val_acc))\n",
    "    \n",
    "    val_acc.append(patchy_cnn.final_val_acc)"
   ]
  },
  {
   "cell_type": "code",
   "execution_count": 6,
   "metadata": {},
   "outputs": [
    {
     "name": "stdout",
     "output_type": "stream",
     "text": [
      "avg val accuracy: 0.5428571701049805\n",
      "std val accuracy: 0.0\n"
     ]
    }
   ],
   "source": [
    "print('avg val accuracy: {}'.format(np.mean(val_acc)))\n",
    "print('std val accuracy: {}'.format(np.std(val_acc)))\n",
    "      "
   ]
  },
  {
   "cell_type": "code",
   "execution_count": null,
   "metadata": {},
   "outputs": [],
   "source": [
    "score = patchy_cnn.model.evaluate(patchy_cnn.x_test, patchy_cnn.y_test, verbose=0)\n",
    "print('Test loss:', score[0])\n",
    "print('Test accuracy:', score[1])\n",
    "\n",
    "plt.plot(range(patchy_cnn.epochs), patchy_cnn.history.acc)\n",
    "plt.legend('train data',loc='lower center')\n",
    "plt.plot(range(patchy_cnn.epochs), patchy_cnn.history.val_acc)\n",
    "plt.legend('test data')\n",
    "plt.xlabel('Epochs')\n",
    "plt.ylabel('Accuracy')\n",
    "plt.show()"
   ]
  },
  {
   "cell_type": "code",
   "execution_count": null,
   "metadata": {
    "collapsed": true
   },
   "outputs": [],
   "source": []
  },
  {
   "cell_type": "code",
   "execution_count": null,
   "metadata": {
    "collapsed": true
   },
   "outputs": [],
   "source": []
  },
  {
   "cell_type": "code",
   "execution_count": null,
   "metadata": {
    "collapsed": true
   },
   "outputs": [],
   "source": []
  },
  {
   "cell_type": "code",
   "execution_count": null,
   "metadata": {
    "collapsed": true
   },
   "outputs": [],
   "source": []
  }
 ],
 "metadata": {
  "kernelspec": {
   "display_name": "Python 3",
   "language": "python",
   "name": "python3"
  },
  "language_info": {
   "codemirror_mode": {
    "name": "ipython",
    "version": 3
   },
   "file_extension": ".py",
   "mimetype": "text/x-python",
   "name": "python",
   "nbconvert_exporter": "python",
   "pygments_lexer": "ipython3",
   "version": "3.6.3"
  }
 },
 "nbformat": 4,
 "nbformat_minor": 2
}
