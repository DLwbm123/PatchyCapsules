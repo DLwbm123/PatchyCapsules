{
 "cells": [
  {
   "cell_type": "code",
   "execution_count": 3,
   "metadata": {},
   "outputs": [],
   "source": [
    "import os\n",
    "import sys\n",
    "from time import time\n",
    "from PIL import Image\n",
    "import pandas as pd\n",
    "import numpy as np\n",
    "from sklearn.model_selection import train_test_split\n",
    "import networkx as nx\n",
    "import random\n",
    "\n",
    "from keras import layers, models, optimizers\n",
    "from keras import backend as K\n",
    "K.set_image_data_format('channels_last')\n",
    "from keras.utils import to_categorical\n",
    "from keras.preprocessing.image import ImageDataGenerator\n",
    "from keras import callbacks\n",
    "\n",
    "\n",
    "from utils import combine_images\n",
    "from utils import plot_log\n",
    "\n",
    "from capsulelayers import CapsuleLayer, PrimaryCap, Length, Mask\n",
    "sys.path.append('./PatchyTools/')\n",
    "\n",
    "from PatchyConverter import PatchyConverter\n",
    "from DropboxLoader import DropboxLoader\n",
    "from CapsuleParameters import CapsuleParameters\n",
    "from CapsuleParameters import CapsuleTrainingParameters\n",
    "from GraphClassifier import GraphClassifier\n",
    "\n",
    "\n",
    "import matplotlib.pyplot as plt\n",
    "%matplotlib inline"
   ]
  },
  {
   "cell_type": "markdown",
   "metadata": {},
   "source": [
    "### Load data"
   ]
  },
  {
   "cell_type": "code",
   "execution_count": 2,
   "metadata": {
    "collapsed": true
   },
   "outputs": [],
   "source": [
    "# Getting the data:\n",
    "dataset_name = 'MUTAG'\n",
    "width = 18\n",
    "receptive_field = 10\n",
    "relabeling = True"
   ]
  },
  {
   "cell_type": "code",
   "execution_count": 4,
   "metadata": {},
   "outputs": [
    {
     "name": "stdout",
     "output_type": "stream",
     "text": [
      "importing graph data\n",
      "number of graphs in MUTAG dataset : 188\n",
      "number of features : 7\n",
      "Separating Graphs per graph ID\n",
      "getting width\n",
      "width: 18\n"
     ]
    }
   ],
   "source": [
    "graph_converter = PatchyConverter(dataset_name,receptive_field)"
   ]
  },
  {
   "cell_type": "code",
   "execution_count": 6,
   "metadata": {},
   "outputs": [],
   "source": [
    "graph_converter.create_adj_coomatrix_by_graphId()"
   ]
  },
  {
   "cell_type": "code",
   "execution_count": 8,
   "metadata": {},
   "outputs": [],
   "source": [
    "graph_converter.canonical_labeling()"
   ]
  },
  {
   "cell_type": "code",
   "execution_count": 17,
   "metadata": {},
   "outputs": [
    {
     "data": {
      "text/html": [
       "<div>\n",
       "<style scoped>\n",
       "    .dataframe tbody tr th:only-of-type {\n",
       "        vertical-align: middle;\n",
       "    }\n",
       "\n",
       "    .dataframe tbody tr th {\n",
       "        vertical-align: top;\n",
       "    }\n",
       "\n",
       "    .dataframe thead th {\n",
       "        text-align: right;\n",
       "    }\n",
       "</style>\n",
       "<table border=\"1\" class=\"dataframe\">\n",
       "  <thead>\n",
       "    <tr style=\"text-align: right;\">\n",
       "      <th></th>\n",
       "      <th>index</th>\n",
       "      <th>label</th>\n",
       "      <th>node</th>\n",
       "      <th>graph_ind</th>\n",
       "      <th>cano_label</th>\n",
       "    </tr>\n",
       "  </thead>\n",
       "  <tbody>\n",
       "    <tr>\n",
       "      <th>0</th>\n",
       "      <td>0</td>\n",
       "      <td>0</td>\n",
       "      <td>0</td>\n",
       "      <td>1</td>\n",
       "      <td>15</td>\n",
       "    </tr>\n",
       "    <tr>\n",
       "      <th>1</th>\n",
       "      <td>1</td>\n",
       "      <td>0</td>\n",
       "      <td>1</td>\n",
       "      <td>1</td>\n",
       "      <td>16</td>\n",
       "    </tr>\n",
       "    <tr>\n",
       "      <th>2</th>\n",
       "      <td>2</td>\n",
       "      <td>0</td>\n",
       "      <td>2</td>\n",
       "      <td>1</td>\n",
       "      <td>13</td>\n",
       "    </tr>\n",
       "    <tr>\n",
       "      <th>3</th>\n",
       "      <td>3</td>\n",
       "      <td>0</td>\n",
       "      <td>3</td>\n",
       "      <td>1</td>\n",
       "      <td>11</td>\n",
       "    </tr>\n",
       "    <tr>\n",
       "      <th>4</th>\n",
       "      <td>4</td>\n",
       "      <td>0</td>\n",
       "      <td>4</td>\n",
       "      <td>1</td>\n",
       "      <td>7</td>\n",
       "    </tr>\n",
       "    <tr>\n",
       "      <th>5</th>\n",
       "      <td>5</td>\n",
       "      <td>0</td>\n",
       "      <td>5</td>\n",
       "      <td>1</td>\n",
       "      <td>6</td>\n",
       "    </tr>\n",
       "    <tr>\n",
       "      <th>6</th>\n",
       "      <td>6</td>\n",
       "      <td>0</td>\n",
       "      <td>6</td>\n",
       "      <td>1</td>\n",
       "      <td>2</td>\n",
       "    </tr>\n",
       "    <tr>\n",
       "      <th>7</th>\n",
       "      <td>7</td>\n",
       "      <td>0</td>\n",
       "      <td>7</td>\n",
       "      <td>1</td>\n",
       "      <td>1</td>\n",
       "    </tr>\n",
       "    <tr>\n",
       "      <th>8</th>\n",
       "      <td>8</td>\n",
       "      <td>0</td>\n",
       "      <td>8</td>\n",
       "      <td>1</td>\n",
       "      <td>0</td>\n",
       "    </tr>\n",
       "    <tr>\n",
       "      <th>9</th>\n",
       "      <td>9</td>\n",
       "      <td>0</td>\n",
       "      <td>9</td>\n",
       "      <td>1</td>\n",
       "      <td>5</td>\n",
       "    </tr>\n",
       "    <tr>\n",
       "      <th>10</th>\n",
       "      <td>10</td>\n",
       "      <td>0</td>\n",
       "      <td>10</td>\n",
       "      <td>1</td>\n",
       "      <td>10</td>\n",
       "    </tr>\n",
       "    <tr>\n",
       "      <th>11</th>\n",
       "      <td>11</td>\n",
       "      <td>0</td>\n",
       "      <td>11</td>\n",
       "      <td>1</td>\n",
       "      <td>12</td>\n",
       "    </tr>\n",
       "    <tr>\n",
       "      <th>12</th>\n",
       "      <td>12</td>\n",
       "      <td>0</td>\n",
       "      <td>12</td>\n",
       "      <td>1</td>\n",
       "      <td>9</td>\n",
       "    </tr>\n",
       "    <tr>\n",
       "      <th>13</th>\n",
       "      <td>13</td>\n",
       "      <td>0</td>\n",
       "      <td>13</td>\n",
       "      <td>1</td>\n",
       "      <td>4</td>\n",
       "    </tr>\n",
       "    <tr>\n",
       "      <th>14</th>\n",
       "      <td>14</td>\n",
       "      <td>1</td>\n",
       "      <td>14</td>\n",
       "      <td>1</td>\n",
       "      <td>3</td>\n",
       "    </tr>\n",
       "    <tr>\n",
       "      <th>15</th>\n",
       "      <td>15</td>\n",
       "      <td>2</td>\n",
       "      <td>15</td>\n",
       "      <td>1</td>\n",
       "      <td>8</td>\n",
       "    </tr>\n",
       "    <tr>\n",
       "      <th>16</th>\n",
       "      <td>16</td>\n",
       "      <td>2</td>\n",
       "      <td>16</td>\n",
       "      <td>1</td>\n",
       "      <td>14</td>\n",
       "    </tr>\n",
       "  </tbody>\n",
       "</table>\n",
       "</div>"
      ],
      "text/plain": [
       "    index  label  node  graph_ind  cano_label\n",
       "0       0      0     0          1          15\n",
       "1       1      0     1          1          16\n",
       "2       2      0     2          1          13\n",
       "3       3      0     3          1          11\n",
       "4       4      0     4          1           7\n",
       "5       5      0     5          1           6\n",
       "6       6      0     6          1           2\n",
       "7       7      0     7          1           1\n",
       "8       8      0     8          1           0\n",
       "9       9      0     9          1           5\n",
       "10     10      0    10          1          10\n",
       "11     11      0    11          1          12\n",
       "12     12      0    12          1           9\n",
       "13     13      0    13          1           4\n",
       "14     14      1    14          1           3\n",
       "15     15      2    15          1           8\n",
       "16     16      2    16          1          14"
      ]
     },
     "execution_count": 17,
     "metadata": {},
     "output_type": "execute_result"
    }
   ],
   "source": [
    "graph_converter.node_label_by_graphId[1]"
   ]
  },
  {
   "cell_type": "code",
   "execution_count": 18,
   "metadata": {
    "collapsed": true
   },
   "outputs": [],
   "source": [
    "from PatchyConverter import dfadj_to_dict"
   ]
  },
  {
   "cell_type": "code",
   "execution_count": 19,
   "metadata": {
    "collapsed": true
   },
   "outputs": [],
   "source": [
    "temp_graph_dict = dfadj_to_dict(graph_converter.adj_dict_by_graphId[1])\n",
    "nauty_graph = nauty.Graph(len(temp_graph_dict), adjacency_dict=temp_graph_dict)"
   ]
  },
  {
   "cell_type": "code",
   "execution_count": 30,
   "metadata": {},
   "outputs": [],
   "source": [
    "nauty.autgrp?"
   ]
  },
  {
   "cell_type": "code",
   "execution_count": null,
   "metadata": {
    "collapsed": true
   },
   "outputs": [],
   "source": []
  },
  {
   "cell_type": "code",
   "execution_count": 11,
   "metadata": {
    "collapsed": true
   },
   "outputs": [],
   "source": [
    "import pynauty as nauty"
   ]
  },
  {
   "cell_type": "code",
   "execution_count": 27,
   "metadata": {
    "collapsed": true
   },
   "outputs": [],
   "source": [
    "nauty.canonical_labeling?"
   ]
  },
  {
   "cell_type": "code",
   "execution_count": null,
   "metadata": {
    "collapsed": true
   },
   "outputs": [],
   "source": []
  },
  {
   "cell_type": "code",
   "execution_count": 4,
   "metadata": {
    "collapsed": true
   },
   "outputs": [],
   "source": [
    "# Adjeceny dict and \n",
    "PatchyConverter = GraphConverter(dataset_name, receptive_field)\n",
    "adj_dict = PatchyConverter.create_adj_dict_by_graphId()\n",
    "adj_coomatrix_by_graphId = PatchyConverter.create_adj_coomatrix_by_graphId(adj_dict)\n",
    "#cano_label = canonical_labeling(adj_dict, df_node_label, df_adj)"
   ]
  },
  {
   "cell_type": "code",
   "execution_count": null,
   "metadata": {
    "collapsed": true
   },
   "outputs": [],
   "source": [
    "# Importing graph features:\n",
    "#df_edge_label = dropbox_loader.get_edge_label()\n",
    "df_graph_ind = dropbox_loader.get_graph_ind()\n",
    "df_adj = dropbox_loader.get_adj()\n",
    "df_node_label = dropbox_loader.get_node_label()\n",
    "df_node_label = pd.concat([df_node_label, df_graph_ind.graph_ind], axis=1)"
   ]
  },
  {
   "cell_type": "code",
   "execution_count": null,
   "metadata": {
    "collapsed": true
   },
   "outputs": [],
   "source": [
    "# Converting Graphs into Matrices:\n",
    "if relabeling:\n",
    "    PatchyConverter.relabel_graphs()\n",
    "graph_tensor = PatchyConverter.graphs_to_Patchy_tensor()"
   ]
  },
  {
   "cell_type": "code",
   "execution_count": null,
   "metadata": {
    "collapsed": true
   },
   "outputs": [],
   "source": [
    "# Capsule Architecture Parameters:\n",
    "capsule_params= CapsuleParameters()\n",
    "\n",
    "# First conv layer: 'filters', kernel_size)\n",
    "conv_layer_name = 'conv_layer'\n",
    "conv_layer_params = {}\n",
    "conv_layer_params['filters'] = 256\n",
    "conv_layer_params['kernel_size'] = 9\n",
    "conv_layer_params['strides'] = [1, 1]\n",
    "conv_layer_params['padding'] = 'VALID'\n",
    "conv_layer_params['activation'] = 'relu'\n",
    "conv_layer_params['name'] = 'conv1'\n",
    "\n",
    "capsule_params.add_params(conv_layer_params,conv_layer_name)\n",
    "\n",
    "# First Capsule Layer:\n",
    "# [num_output_caps, caps_len,'filters',kernel_size,strides,padding]\n",
    "caps_layer_name = 'caps_layer'\n",
    "caps_layer_params = {}\n",
    "caps_layer_params['filters'] = 256\n",
    "caps_layer_params['kernel_size'] = 2\n",
    "caps_layer_params['strides'] = [2,2]\n",
    "caps_layer_params['padding'] = 'VALID'\n",
    "caps_layer_params['padding'] = 'VALID'\n",
    "caps_layer_params['n_channels'] = 32\n",
    "caps_layer_params['dim_capsule'] = 8\n",
    "caps_layer_params['name'] = 'caps_layer'\n",
    "capsule_params.add_params(caps_layer_params,caps_layer_name)\n",
    "\n",
    "# Digit Capsule Layer:\n",
    "digit_layer_name = 'digitcaps_layer'\n",
    "digit_layer_params = {}\n",
    "digit_layer_params['n_channels'] = 10\n",
    "digit_layer_params['dim_capsule'] = 16\n",
    "digit_layer_params['name'] = 'digitcaps'\n",
    "capsule_params.add_params(digit_layer_params,digit_layer_name )\n",
    "\n",
    "# Capsule Decoder:\n",
    "decoder_layer = 'decoder_layer'\n",
    "decoder_params = {}\n",
    "decoder_params['first_dense'] = 256 #250 #512\n",
    "decoder_params['second_dense'] = 512\n",
    "decoder_params['name'] = 'decoder'\n",
    "capsule_params.add_params(decoder_params,decoder_layer)\n"
   ]
  },
  {
   "cell_type": "code",
   "execution_count": null,
   "metadata": {
    "collapsed": true
   },
   "outputs": [],
   "source": [
    "parameter_set = CapsuleTrainingParameters()\n",
    "parameter_set.add_fold(1)\n",
    "parameter_set.epochs= 5"
   ]
  },
  {
   "cell_type": "code",
   "execution_count": null,
   "metadata": {
    "collapsed": true
   },
   "outputs": [],
   "source": [
    "x_train, x_test, y_train, y_test = train_test_split(graph_tensor,graph_labels,test_size=0.10,random_state=1)\n",
    "data = ((x_train, y_train), (x_test, y_test))\n",
    "input_shape = x_train.shape[1:]"
   ]
  },
  {
   "cell_type": "code",
   "execution_count": null,
   "metadata": {
    "collapsed": true
   },
   "outputs": [],
   "source": [
    "patchy_classifier = GraphClassifier(input_shape)\n",
    "patchy_classifier.build_the_graph(capsule_params)\n",
    "patchy_classifier.train(data, parameter_set)"
   ]
  },
  {
   "cell_type": "code",
   "execution_count": null,
   "metadata": {
    "collapsed": true
   },
   "outputs": [],
   "source": [
    "patchy_classifier.results.rename('wegewg',inplace=True)"
   ]
  },
  {
   "cell_type": "code",
   "execution_count": null,
   "metadata": {
    "collapsed": true
   },
   "outputs": [],
   "source": [
    "patchy_classifier.results.name"
   ]
  },
  {
   "cell_type": "code",
   "execution_count": null,
   "metadata": {
    "collapsed": true
   },
   "outputs": [],
   "source": []
  }
 ],
 "metadata": {
  "kernelspec": {
   "display_name": "Python 3",
   "language": "python",
   "name": "python3"
  },
  "language_info": {
   "codemirror_mode": {
    "name": "ipython",
    "version": 3
   },
   "file_extension": ".py",
   "mimetype": "text/x-python",
   "name": "python",
   "nbconvert_exporter": "python",
   "pygments_lexer": "ipython3",
   "version": "3.6.3"
  }
 },
 "nbformat": 4,
 "nbformat_minor": 2
}
