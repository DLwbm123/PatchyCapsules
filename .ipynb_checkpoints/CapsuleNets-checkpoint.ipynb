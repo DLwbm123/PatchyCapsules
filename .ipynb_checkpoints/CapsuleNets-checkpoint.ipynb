{
 "cells": [
  {
   "cell_type": "code",
   "execution_count": 1,
   "metadata": {},
   "outputs": [
    {
     "name": "stderr",
     "output_type": "stream",
     "text": [
      "/anaconda3/lib/python3.6/site-packages/h5py/__init__.py:34: FutureWarning: Conversion of the second argument of issubdtype from `float` to `np.floating` is deprecated. In future, it will be treated as `np.float64 == np.dtype(float).type`.\n",
      "  from ._conv import register_converters as _register_converters\n"
     ]
    }
   ],
   "source": [
    "import tensorflow as tf\n",
    "import numpy as np"
   ]
  },
  {
   "cell_type": "code",
   "execution_count": 2,
   "metadata": {
    "collapsed": true
   },
   "outputs": [],
   "source": [
    "# Functions:\n",
    "def reset_graph(seed=42):\n",
    "    tf.reset_default_graph()\n",
    "    tf.set_random_seed(seed)\n",
    "    np.random.seed(seed)\n",
    "    \n",
    "def squash(vector):\n",
    "    epsilon = 0.001\n",
    "    norm_vector = tf.sqrt(tf.reduce_sum(tf.square(vector)))\n",
    "    norm_vector_epsilon = tf.sqrt(tf.reduce_sum(tf.square(vector))+epsilon)\n",
    "    \n",
    "    return norm_vector/(norm_vector+1)*(tf.norm(vector)/tf.norm(vector))\n"
   ]
  },
  {
   "cell_type": "code",
   "execution_count": 3,
   "metadata": {
    "collapsed": true
   },
   "outputs": [],
   "source": [
    "# Downloading mnist dataset:\n",
    "(X_train, y_train), (X_test, y_test) = tf.keras.datasets.mnist.load_data()\n",
    "X_train = X_train.astype(np.float32).reshape(-1, 28, 28,1) / 255.0\n",
    "X_test = X_test.astype(np.float32).reshape(-1, 28, 28,1) / 255.0\n",
    "y_train = y_train.astype(np.int32)\n",
    "y_test = y_test.astype(np.int32)\n",
    "X_valid, X_train = X_train[:55000], X_train[55000:]\n",
    "y_valid, y_train = y_train[:55000], y_train[55000:]"
   ]
  },
  {
   "cell_type": "code",
   "execution_count": 5,
   "metadata": {
    "collapsed": true
   },
   "outputs": [],
   "source": [
    "# Some constants:\n",
    "dim1 = X_train.shape[0]\n",
    "n_inputs = 28*28\n",
    "channels = 1\n",
    "#n_output_conv1 = (20,20,256)\n",
    "height,width = 28,28"
   ]
  },
  {
   "cell_type": "code",
   "execution_count": 67,
   "metadata": {
    "collapsed": true
   },
   "outputs": [],
   "source": [
    "# Initialize graph:\n",
    "reset_graph()\n",
    "# Placeholders:\n",
    "X = tf.placeholder(shape=(dim1, height, width, channels), dtype=tf.float32)\n",
    "y = tf.placeholder(tf.int32, shape=(dim1), name=\"y\")"
   ]
  },
  {
   "cell_type": "code",
   "execution_count": 68,
   "metadata": {},
   "outputs": [
    {
     "name": "stdout",
     "output_type": "stream",
     "text": [
      "(5000, 20, 20, 256)\n"
     ]
    }
   ],
   "source": [
    "# First Conv layer:\n",
    "with tf.name_scope('cnn'):\n",
    "    conv = tf.layers.conv2d(X, filters=256, kernel_size=9, strides=[1,1],padding='VALID')\n",
    "    print(conv.shape)"
   ]
  },
  {
   "cell_type": "code",
   "execution_count": 69,
   "metadata": {},
   "outputs": [
    {
     "name": "stdout",
     "output_type": "stream",
     "text": [
      "caps shape:  (5000, 6, 6, 256)\n",
      "u_i shape:  (5000, 1152, 8, 1)\n"
     ]
    }
   ],
   "source": [
    "# First Capsule LAyer:\n",
    "with tf.name_scope('caps'):\n",
    "    caps = tf.layers.conv2d(conv,filters=256,kernel_size=9,strides=[2,2],padding='VALID')\n",
    "    print('caps shape: ',caps.shape)\n",
    "    u_i = tf.reshape(caps, shape=[-1,32*6*6,8,1])\n",
    "    #caps2 = tf.layers.conv2d(caps1,filters=8,kernel_size=9,strides=[2,2],padding='VALID')\n",
    "    print('u_i shape: ',u_i.shape)\n",
    "    #a_caps1 = squash(caps1)"
   ]
  },
  {
   "cell_type": "code",
   "execution_count": 70,
   "metadata": {},
   "outputs": [
    {
     "name": "stdout",
     "output_type": "stream",
     "text": [
      "W_Ij shape:  (5000, 1152, 8, 16)\n",
      "u_hat shape:  (5000, 1152, 16, 1)\n"
     ]
    }
   ],
   "source": [
    "# Routing:\n",
    "\n",
    "with tf.variable_scope('routing'):\n",
    "    w_initializer = np.random.normal(size=[1, 1152, 8, 16], scale=0.01)\n",
    "    W_Ij = tf.Variable(w_initializer, dtype=tf.float32)\n",
    "\n",
    "    # repeat W_Ij with batch_size times to shape [batch_size, 1152, 8, 16]\n",
    "    W_Ij = tf.tile(W_Ij, [5000, 1, 1, 1])\n",
    "    print('W_Ij shape: ',W_Ij.shape)\n",
    "    # calc u_hat\n",
    "    # [8, 16].T x [8, 1] => [16, 1] => [batch_size, 1152, 16, 1]\n",
    "    u_hat = tf.matmul(W_Ij, u_i, transpose_a=True)\n",
    "    \n",
    "    print('u_hat shape: ',u_hat.shape)\n",
    "    "
   ]
  },
  {
   "cell_type": "code",
   "execution_count": 75,
   "metadata": {
    "collapsed": true
   },
   "outputs": [],
   "source": [
    "b_IJ = tf.zeros(shape=[1, 1152, 10, 1], dtype=np.float32)\n",
    "shape = b_IJ.get_shape().as_list()\n",
    "#size_splits = [idx_j, 1, shape[2] - idx_j - 1]"
   ]
  },
  {
   "cell_type": "code",
   "execution_count": 76,
   "metadata": {},
   "outputs": [
    {
     "data": {
      "text/plain": [
       "[1, 1152, 10, 1]"
      ]
     },
     "execution_count": 76,
     "metadata": {},
     "output_type": "execute_result"
    }
   ],
   "source": []
  },
  {
   "cell_type": "code",
   "execution_count": null,
   "metadata": {
    "collapsed": true
   },
   "outputs": [],
   "source": []
  },
  {
   "cell_type": "code",
   "execution_count": 16,
   "metadata": {
    "collapsed": true
   },
   "outputs": [],
   "source": [
    "with tf.name_scope('digit_caps'):\n",
    "    W = tf.Variable( tf.random_uniform((8,16),seed = 1), name=\"theta\",dtype=tf.float32)\n",
    "    u_ji = tf.reshape(tf.matmul(tf.reshape(u_i,[5000*1152,8]),W),[5000,1152,16])\n",
    "    v_j = routing(u_ji, num_iter)\n",
    "    \n",
    "    \n",
    "    \n",
    "    \n",
    "    \n",
    "    "
   ]
  },
  {
   "cell_type": "code",
   "execution_count": 42,
   "metadata": {},
   "outputs": [
    {
     "name": "stdout",
     "output_type": "stream",
     "text": [
      "[[0.1 0.1 0.1 ... 0.1 0.1 0.1]\n",
      " [0.1 0.1 0.1 ... 0.1 0.1 0.1]\n",
      " [0.1 0.1 0.1 ... 0.1 0.1 0.1]\n",
      " ...\n",
      " [0.1 0.1 0.1 ... 0.1 0.1 0.1]\n",
      " [0.1 0.1 0.1 ... 0.1 0.1 0.1]\n",
      " [0.1 0.1 0.1 ... 0.1 0.1 0.1]]\n"
     ]
    }
   ],
   "source": [
    "# Testing:\n",
    "sess = tf.InteractiveSession()\n",
    "\n",
    "# We can just use 'c.eval()' without passing 'sess'\n",
    "sess.run(tf.global_variables_initializer())\n",
    "\n",
    "#print(a.eval(feed_dict=X_test))\n",
    "print(c.eval())\n",
    "sess.close()"
   ]
  },
  {
   "cell_type": "code",
   "execution_count": null,
   "metadata": {
    "collapsed": true
   },
   "outputs": [],
   "source": [
    "# Testing class Caps Layer:"
   ]
  },
  {
   "cell_type": "code",
   "execution_count": null,
   "metadata": {
    "collapsed": true
   },
   "outputs": [],
   "source": [
    "class CapsLayer(object):\n",
    "    def __init__(self, input_tensor, num_capsules, digit_layer = False):\n",
    "        self.input = input_tensor\n",
    "        self.num_capsules = num_capsules\n",
    "        \n",
    "    def __call__(self, num_filters, kernel_size, strides):\n",
    "        # In case it is a primary layer:\n",
    "        if digit_layer == False:\n",
    "            conv = tf.layers.conv2d(inputs=self.input, filters=num_filters, \\\n",
    "                                    kernel_size=kernel_size, activation=tf.nn.relu, \\\n",
    "                                    strides=strides, padding = 'SAME' )\n",
    "            caps = self.squash(conv)\n",
    "            return caps\n",
    "        # In case it is a final layer:\n",
    "        else:\n",
    "            fcaps = self.routing(self.input)\n",
    "            return fcaps\n",
    "            \n",
    "        \n",
    "    def routing(self,capsule):\n",
    "    \n",
    "        \n",
    "    \n",
    "    def create_list_capsules(num_capsules):\n",
    "        for i in range(num_capsules)\n",
    "            if i == 0:\n",
    "                self.list_capsules.append(tf.layers.conv2d(input_tensor, \\\n",
    "                                                           filters=num_filters, \\\n",
    "                                                           kernel_size=kernel_size, \\\n",
    "                                                           strides=[2,2], \\\n",
    "                                                           padding='VALID'))\n",
    "            else:\n",
    "                self.list_capsules.append(create_capsule)\n",
    "        \n",
    "    def create_capsule(input_tensor, kernel_size, strides):\n",
    "        return tf.layers.conv2d(input_capsule, filters=num_filters, kernel_size=kernel_size, strides=[2,2], padding='VALID')\n",
    "    \n",
    "    def squashing(vector):\n",
    "        return tf.norm(vector)/(tf.norm(vector)+1)*(tf.norm(vector)/tf.norm(vector))\n",
    "    "
   ]
  },
  {
   "cell_type": "code",
   "execution_count": null,
   "metadata": {
    "collapsed": true
   },
   "outputs": [],
   "source": []
  },
  {
   "cell_type": "code",
   "execution_count": null,
   "metadata": {
    "collapsed": true
   },
   "outputs": [],
   "source": []
  },
  {
   "cell_type": "code",
   "execution_count": null,
   "metadata": {
    "collapsed": true
   },
   "outputs": [],
   "source": []
  }
 ],
 "metadata": {
  "kernelspec": {
   "display_name": "Python 3",
   "language": "python",
   "name": "python3"
  },
  "language_info": {
   "codemirror_mode": {
    "name": "ipython",
    "version": 3
   },
   "file_extension": ".py",
   "mimetype": "text/x-python",
   "name": "python",
   "nbconvert_exporter": "python",
   "pygments_lexer": "ipython3",
   "version": "3.6.3"
  }
 },
 "nbformat": 4,
 "nbformat_minor": 2
}
