{
 "cells": [
  {
   "cell_type": "code",
   "execution_count": null,
   "metadata": {},
   "outputs": [],
   "source": [
    "import os\n",
    "import sys\n",
    "import pandas as pd\n",
    "import numpy as np\n",
    "from sklearn.model_selection import train_test_split\n",
    "from time import time\n",
    "from datetime import datetime\n",
    "from PIL import Image\n",
    "import argparse\n",
    "from collections import defaultdict\n",
    "\n",
    "from keras import layers, models, optimizers\n",
    "from keras import backend as K\n",
    "\n",
    "K.set_image_data_format('channels_last')\n",
    "from keras.utils import to_categorical\n",
    "from keras.preprocessing.image import ImageDataGenerator\n",
    "from keras import callbacks\n",
    "\n",
    "from keras.layers import Dense, Flatten\n",
    "from keras.layers import Conv2D, MaxPooling2D, Dropout\n",
    "from keras.models import Sequential\n",
    "from keras.losses import categorical_crossentropy\n",
    "\n",
    "from keras_tqdm import TQDMCallback\n",
    "\n",
    "from utils import plot_log,save_results_to_csv\n",
    "\n",
    "from capsulelayers import CapsuleLayer, PrimaryCap, Length, Mask\n",
    "\n",
    "sys.path.append('./PatchyTools/')\n",
    "from GraphConverter import GraphConverter\n",
    "from DropboxLoader import DropboxLoader\n",
    "from CapsuleParameters import CapsuleParameters\n",
    "from CapsuleParameters import CapsuleTrainingParameters\n",
    "from ConvNetPatchy import AccuracyHistory\n",
    "from GraphClassifier import GraphClassifier\n",
    "\n",
    "DIR_PATH = os.environ['GAMMA_DATA_ROOT']\n",
    "GRAPH_RELABEL_NAME = '_relabeled'\n",
    "RESULTS_PATH = os.path.join(DIR_PATH, 'Results/CapsuleSans/CNN_Caps_comparison.csv')\n",
    "\n"
   ]
  },
  {
   "cell_type": "markdown",
   "metadata": {},
   "source": [
    "### Load data"
   ]
  },
  {
   "cell_type": "code",
   "execution_count": null,
   "metadata": {},
   "outputs": [],
   "source": [
    "# Getting the data:\n",
    "dataset_name = 'PROTEINS'\n",
    "receptive_field = 10\n",
    "relabelling = False\n",
    "epochs = 100\n",
    "n_folds = 2"
   ]
  },
  {
   "cell_type": "code",
   "execution_count": null,
   "metadata": {},
   "outputs": [],
   "source": [
    "# Converting Graphs into Matrices:\n",
    "PatchyConverter = GraphConverter(dataset_name, receptive_field, GRAPH_RELABEL_NAME)\n",
    "if relabelling:\n",
    "    PatchyConverter.relabel_graphs()\n",
    "\n",
    "graph_tensor = PatchyConverter.graphs_to_Patchy_tensor()\n",
    "avg_nodes_per_graph = PatchyConverter.avg_nodes_per_graph\n",
    "\n",
    "# Getting the labels:\n",
    "dropbox_loader = DropboxLoader(dataset_name)\n",
    "graph_labels = dropbox_loader.get_graph_label()\n",
    "graph_labels = np.array(graph_labels.graph_label)\n"
   ]
  },
  {
   "cell_type": "code",
   "execution_count": null,
   "metadata": {
    "collapsed": true
   },
   "outputs": [],
   "source": [
    "# Capsule Architecture Parameters:\n",
    "capsule_params = CapsuleParameters()\n",
    "\n",
    "# First conv layer: 'filters', kernel_size)\n",
    "conv_layer_name = 'conv_layer'\n",
    "conv_layer_params = {}\n",
    "conv_layer_params['filters'] = 256\n",
    "conv_layer_params['kernel_size'] = 9\n",
    "conv_layer_params['strides'] = [1, 1]\n",
    "conv_layer_params['padding'] = 'VALID'\n",
    "conv_layer_params['activation'] = 'relu'\n",
    "conv_layer_params['name'] = 'conv1'\n",
    "\n",
    "capsule_params.add_params(conv_layer_params, conv_layer_name)\n",
    "\n",
    "# First Capsule Layer:\n",
    "# [num_output_caps, caps_len,'filters',kernel_size,strides,padding]\n",
    "caps_layer_name = 'caps_layer'\n",
    "caps_layer_params = {}\n",
    "caps_layer_params['filters'] = 256\n",
    "caps_layer_params['kernel_size'] = 2\n",
    "caps_layer_params['strides'] = [2, 2]\n",
    "caps_layer_params['padding'] = 'VALID'\n",
    "caps_layer_params['padding'] = 'VALID'\n",
    "caps_layer_params['n_channels'] = 32\n",
    "caps_layer_params['dim_capsule'] = 8\n",
    "caps_layer_params['name'] = 'caps_layer'\n",
    "capsule_params.add_params(caps_layer_params, caps_layer_name)\n",
    "\n",
    "# Digit Capsule Layer:\n",
    "digit_layer_name = 'digitcaps_layer'\n",
    "digit_layer_params = {}\n",
    "digit_layer_params['n_channels'] = 10\n",
    "digit_layer_params['dim_capsule'] = 16\n",
    "digit_layer_params['name'] = 'digitcaps'\n",
    "capsule_params.add_params(digit_layer_params, digit_layer_name)\n",
    "\n",
    "# Capsule Decoder:\n",
    "decoder_layer = 'decoder_layer'\n",
    "decoder_params = {}\n",
    "decoder_params['first_dense'] = 256  # 250 #512\n",
    "decoder_params['second_dense'] = 512\n",
    "decoder_params['name'] = 'decoder'\n",
    "capsule_params.add_params(decoder_params, decoder_layer)\n",
    "\n",
    "# Training Hyperparameters:\n",
    "\n",
    "args_train = CapsuleTrainingParameters()\n",
    "args_train.verbose = 0\n",
    "if not os.path.exists(args_train.save_dir):\n",
    "    os.makedirs(args_train.save_dir)"
   ]
  },
  {
   "cell_type": "code",
   "execution_count": null,
   "metadata": {},
   "outputs": [],
   "source": [
    "# Generate list of parameter sets::\n",
    "list_parameter_sets = []\n",
    "#list_parameter_sets.append(args_train)\n",
    "\n",
    "n_epoch_list = [epochs]  # , 150, 200]\n",
    "lr_list = [0.001]  # , 0.005]#[0.0005, 0.001]#, 0.005]\n",
    "lr_decay_list = [0.9]  # , 0.75]#[0.25,0.4]#, 0.75, 1.5]\n",
    "lam_recon_list = [0.392]  # ,0.7] # [0.25,0.4,0.55]\n",
    "\n",
    "for n_epoch in n_epoch_list:\n",
    "    for lr in lr_list:\n",
    "        for lr_decay in lr_decay_list:\n",
    "            for lam_recon in lam_recon_list:\n",
    "                training_params = CapsuleTrainingParameters(epochs=n_epoch,\n",
    "                                                            lr=lr,\n",
    "                                                            lr_decay=lr_decay,\n",
    "                                                            lam_recon=lam_recon)\n",
    "                list_parameter_sets.append(training_params)\n",
    "\n",
    "#list_parameter_sets[-1].plot_log = True\n",
    "\n",
    "# Default parameters:\n",
    "print('Training in {} parameter sets'.format(len(list_parameter_sets)))\n"
   ]
  },
  {
   "cell_type": "code",
   "execution_count": null,
   "metadata": {
    "scrolled": true
   },
   "outputs": [],
   "source": [
    "fold_set = []\n",
    "\n",
    "for j in range(n_folds):\n",
    "    fold_set.append(train_test_split(graph_tensor,\n",
    "                                     graph_labels,\n",
    "                                     test_size=0.10,\n",
    "                                     random_state=j))\n",
    "results_df = []\n",
    "val_acc = []\n",
    "for i, parameter_set in enumerate(list_parameter_sets):\n",
    "    for j in range(n_folds):\n",
    "\n",
    "        x_train, x_test, y_train, y_test = fold_set[j]\n",
    "        data = ((x_train, y_train), (x_test, y_test))\n",
    "        input_shape = x_train.shape[1:]\n",
    "        parameter_set.add_fold(i)\n",
    "\n",
    "        patchy_classifier = GraphClassifier(input_shape)\n",
    "        patchy_classifier.build_the_graph(capsule_params)\n",
    "        patchy_classifier.train(data, parameter_set)\n",
    "\n",
    "\n",
    "        val_acc.append(patchy_classifier.results.val_capsnet_acc)\n",
    "\n",
    "        #if i == 0:\n",
    "        results_df.append(pd.DataFrame(patchy_classifier.results))\n",
    "        #else:\n",
    "        print('Set of parameters {} trained '.format(i + 1))"
   ]
  },
  {
   "cell_type": "code",
   "execution_count": null,
   "metadata": {},
   "outputs": [],
   "source": []
  },
  {
   "cell_type": "code",
   "execution_count": null,
   "metadata": {
    "collapsed": true
   },
   "outputs": [],
   "source": []
  },
  {
   "cell_type": "code",
   "execution_count": null,
   "metadata": {
    "collapsed": true
   },
   "outputs": [],
   "source": []
  },
  {
   "cell_type": "code",
   "execution_count": null,
   "metadata": {
    "collapsed": true
   },
   "outputs": [],
   "source": []
  },
  {
   "cell_type": "code",
   "execution_count": null,
   "metadata": {
    "collapsed": true
   },
   "outputs": [],
   "source": []
  },
  {
   "cell_type": "code",
   "execution_count": null,
   "metadata": {},
   "outputs": [],
   "source": [
    "score = patchy_classifier.train_model.evaluate([[patchy_classifier.x_test, patchy_classifier.y_test],patchy_classifier.y_test, patchy_classifier.x_test], verbose=0)\n",
    "print('Test loss:', score[0])\n",
    "print('Test accuracy:', score[1])\n",
    "\n",
    "plt.plot(range(patchy_cnn.epochs), patchy_cnn.history.acc)\n",
    "plt.legend('train data',loc='lower center')\n",
    "plt.plot(range(patchy_cnn.epochs), patchy_cnn.history.val_acc)\n",
    "plt.legend('test data')\n",
    "plt.xlabel('Epochs')\n",
    "plt.ylabel('Accuracy')\n",
    "plt.show()"
   ]
  },
  {
   "cell_type": "code",
   "execution_count": null,
   "metadata": {
    "collapsed": true
   },
   "outputs": [],
   "source": []
  },
  {
   "cell_type": "code",
   "execution_count": null,
   "metadata": {
    "collapsed": true
   },
   "outputs": [],
   "source": []
  },
  {
   "cell_type": "code",
   "execution_count": null,
   "metadata": {
    "collapsed": true
   },
   "outputs": [],
   "source": []
  }
 ],
 "metadata": {
  "kernelspec": {
   "display_name": "Python 3",
   "language": "python",
   "name": "python3"
  },
  "language_info": {
   "codemirror_mode": {
    "name": "ipython",
    "version": 3
   },
   "file_extension": ".py",
   "mimetype": "text/x-python",
   "name": "python",
   "nbconvert_exporter": "python",
   "pygments_lexer": "ipython3",
   "version": "3.6.3"
  }
 },
 "nbformat": 4,
 "nbformat_minor": 2
}
