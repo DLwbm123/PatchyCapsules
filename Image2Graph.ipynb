{
 "cells": [
  {
   "cell_type": "code",
   "execution_count": 1,
   "metadata": {
    "collapsed": true
   },
   "outputs": [],
   "source": [
    "import pandas as pd\n",
    "import numpy as np\n",
    "import os\n",
    "from scipy.spatial.distance import pdist, squareform\n",
    "import matplotlib.pyplot as plt\n",
    "import networkx as nx\n",
    "import sys\n",
    "sys.path.append('../ImportData')\n",
    "%matplotlib inline\n",
    "from Images2Graph import Images2Graph"
   ]
  },
  {
   "cell_type": "code",
   "execution_count": 5,
   "metadata": {},
   "outputs": [
    {
     "name": "stdout",
     "output_type": "stream",
     "text": [
      "path to features: /Users/marcelogutierrez/.gamma_link/Samples/handwritten_digits/one_vs_two/handwritten_digits_onetwo_x.txt\n",
      "path to labels: /Users/marcelogutierrez/.gamma_link/Samples/handwritten_digits/one_vs_two/handwritten_digits_onetwo_y.txt\n",
      "create weight matrix\n",
      "generate graph\n",
      "create edge list\n",
      "features generated\n"
     ]
    }
   ],
   "source": [
    "folder_name = 'one_vs_two'\n",
    "image_to_graph = Images2Graph(folder_name)\n",
    "image_to_graph.generate_graph_data()\n",
    "#image_to_graph.export_data()"
   ]
  },
  {
   "cell_type": "code",
   "execution_count": null,
   "metadata": {
    "collapsed": true
   },
   "outputs": [],
   "source": []
  }
 ],
 "metadata": {
  "kernelspec": {
   "display_name": "Python 3",
   "language": "python",
   "name": "python3"
  },
  "language_info": {
   "codemirror_mode": {
    "name": "ipython",
    "version": 3
   },
   "file_extension": ".py",
   "mimetype": "text/x-python",
   "name": "python",
   "nbconvert_exporter": "python",
   "pygments_lexer": "ipython3",
   "version": "3.6.3"
  }
 },
 "nbformat": 4,
 "nbformat_minor": 2
}
