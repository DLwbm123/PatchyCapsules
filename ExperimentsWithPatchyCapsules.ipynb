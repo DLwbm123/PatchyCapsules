{
 "cells": [
  {
   "cell_type": "code",
   "execution_count": 1,
   "metadata": {},
   "outputs": [
    {
     "name": "stderr",
     "output_type": "stream",
     "text": [
      "/anaconda3/lib/python3.6/site-packages/h5py/__init__.py:36: FutureWarning: Conversion of the second argument of issubdtype from `float` to `np.floating` is deprecated. In future, it will be treated as `np.float64 == np.dtype(float).type`.\n",
      "  from ._conv import register_converters as _register_converters\n",
      "Using TensorFlow backend.\n"
     ]
    }
   ],
   "source": [
    "import os\n",
    "import sys\n",
    "from time import time\n",
    "from PIL import Image\n",
    "import pandas as pd\n",
    "import numpy as np\n",
    "from sklearn.model_selection import train_test_split\n",
    "from sklearn.decomposition import PCA\n",
    "from sklearn.manifold import *\n",
    "from sklearn.metrics import mean_squared_error\n",
    "from sklearn.metrics import accuracy_score\n",
    "import networkx as nx\n",
    "import random\n",
    "\n",
    "from keras import layers, models, optimizers\n",
    "from keras import backend as K\n",
    "K.set_image_data_format('channels_last')\n",
    "from keras.utils import to_categorical\n",
    "from keras.preprocessing.image import ImageDataGenerator\n",
    "from keras import callbacks\n",
    "from keras.models import Model\n",
    "\n",
    "from utils import combine_images\n",
    "from utils import plot_log\n",
    "\n",
    "from capsulelayers import CapsuleLayer, PrimaryCap, Length, Mask\n",
    "sys.path.append('./PatchyTools/')\n",
    "from PatchyConverter import PatchyConverter\n",
    "from ConvNetPatchy import ConvNetPatchy\n",
    "from DropboxLoader import DropboxLoader\n",
    "from CapsuleParameters import CapsuleParameters\n",
    "from CapsuleParameters import CapsuleTrainingParameters\n",
    "from GraphClassifier import GraphClassifier\n",
    "from keras import backend as K\n",
    "\n",
    "\n",
    "import matplotlib.pyplot as plt\n",
    "%matplotlib inline\n",
    "plt.style.use('seaborn')"
   ]
  },
  {
   "cell_type": "markdown",
   "metadata": {},
   "source": [
    "### Load data"
   ]
  },
  {
   "cell_type": "code",
   "execution_count": 2,
   "metadata": {
    "collapsed": true
   },
   "outputs": [],
   "source": [
    "# Getting the data:\n",
    "dataset_name = 'MUTAG'\n",
    "receptive_field = 10\n",
    "relabeling = True\n",
    "stride = 1"
   ]
  },
  {
   "cell_type": "code",
   "execution_count": 3,
   "metadata": {},
   "outputs": [
    {
     "name": "stdout",
     "output_type": "stream",
     "text": [
      "importing graph data\n",
      "number of graphs in MUTAG dataset : 188\n",
      "number of features : 7\n",
      "Separating Graphs per graph ID\n",
      "getting width\n",
      "width: 18\n"
     ]
    }
   ],
   "source": [
    "# Adjeceny dict and \n",
    "data_graph = PatchyConverter(dataset_name, receptive_field,stride)\n",
    "# Converting Graphs into Matrices:\n",
    "if relabeling:\n",
    "    data_graph.relabel_graphs()"
   ]
  },
  {
   "cell_type": "code",
   "execution_count": 4,
   "metadata": {},
   "outputs": [
    {
     "name": "stdout",
     "output_type": "stream",
     "text": [
      "MUTAG tensor exists, loading it from Dropbox\n",
      "Loading path: /Users/marcelogutierrez/.gamma_link/Samples/MUTAG/MUTAG_patchy_bc_tensor_w_18_relabelled.npy\n"
     ]
    }
   ],
   "source": [
    "graph_tensor = data_graph.graph_to_patchy_tensor_bc()"
   ]
  },
  {
   "cell_type": "code",
   "execution_count": 6,
   "metadata": {},
   "outputs": [
    {
     "name": "stdout",
     "output_type": "stream",
     "text": [
      "MUTAG tensor exists, loading it from Dropbox\n",
      "Loading path: /Users/marcelogutierrez/.gamma_link/Samples/MUTAG/MUTAG_patchy_bc_tensor_w_18_relabelled.npy\n"
     ]
    }
   ],
   "source": [
    "nauty_tensor = data_graph.graphs_to_patchy_tensor()"
   ]
  },
  {
   "cell_type": "code",
   "execution_count": 7,
   "metadata": {
    "collapsed": true
   },
   "outputs": [],
   "source": [
    "dropbox_loader = DropboxLoader(dataset_name)\n",
    "graph_labels = dropbox_loader.get_graph_label()\n",
    "graph_labels = np.array(graph_labels.graph_label)\n",
    "n_class = len(np.unique(graph_labels))"
   ]
  },
  {
   "cell_type": "code",
   "execution_count": 8,
   "metadata": {
    "collapsed": true
   },
   "outputs": [],
   "source": [
    "# Capsule Architecture Parameters:\n",
    "capsule_params= CapsuleParameters()\n",
    "\n",
    "# First conv layer: 'filters', kernel_size)\n",
    "conv_layer_name = 'conv_layer'\n",
    "conv_layer_params = {}\n",
    "conv_layer_params['filters'] = 256\n",
    "conv_layer_params['kernel_size'] = 9\n",
    "conv_layer_params['strides'] = [1, 1]\n",
    "conv_layer_params['padding'] = 'VALID'\n",
    "conv_layer_params['activation'] = 'relu'\n",
    "conv_layer_params['name'] = 'conv1'\n",
    "\n",
    "capsule_params.add_params(conv_layer_params,conv_layer_name)\n",
    "\n",
    "# First Capsule Layer:\n",
    "# [num_output_caps, caps_len,'filters',kernel_size,strides,padding]\n",
    "caps_layer_name = 'caps_layer'\n",
    "caps_layer_params = {}\n",
    "caps_layer_params['filters'] = 256\n",
    "caps_layer_params['kernel_size'] = 2\n",
    "caps_layer_params['strides'] = [2,2]\n",
    "caps_layer_params['padding'] = 'VALID'\n",
    "caps_layer_params['padding'] = 'VALID'\n",
    "caps_layer_params['n_channels'] = 32\n",
    "caps_layer_params['dim_capsule'] = 8\n",
    "caps_layer_params['name'] = 'caps_layer'\n",
    "capsule_params.add_params(caps_layer_params,caps_layer_name)\n",
    "\n",
    "# Digit Capsule Layer:\n",
    "digit_layer_name = 'digitcaps_layer'\n",
    "digit_layer_params = {}\n",
    "digit_layer_params['n_channels'] = 10\n",
    "digit_layer_params['dim_capsule'] = 16\n",
    "digit_layer_params['name'] = 'digitcaps'\n",
    "capsule_params.add_params(digit_layer_params,digit_layer_name )\n",
    "\n",
    "# Capsule Decoder:\n",
    "decoder_layer = 'decoder_layer'\n",
    "decoder_params = {}\n",
    "decoder_params['first_dense'] = 256 #250 #512\n",
    "decoder_params['second_dense'] = 512\n",
    "decoder_params['name'] = 'decoder'\n",
    "capsule_params.add_params(decoder_params,decoder_layer)\n",
    "\n",
    "# Training parameters:\n",
    "parameter_set = CapsuleTrainingParameters()"
   ]
  },
  {
   "cell_type": "code",
   "execution_count": 9,
   "metadata": {},
   "outputs": [
    {
     "name": "stdout",
     "output_type": "stream",
     "text": [
      "WARNING:tensorflow:From /Users/marcelogutierrez/Projects/Gamma/capsuleSans/PatchyCapsules/capsulelayers.py:150: calling softmax (from tensorflow.python.ops.nn_ops) with dim is deprecated and will be removed in a future version.\n",
      "Instructions for updating:\n",
      "dim is deprecated, use axis instead\n",
      "time to generate the model: 0.37148189544677734\n",
      "Trained model saved to './result/trained_model.h5'\n",
      "validation accuracy: 0.8947368264198303\n"
     ]
    },
    {
     "name": "stderr",
     "output_type": "stream",
     "text": [
      "/anaconda3/lib/python3.6/site-packages/pandas/core/generic.py:4405: SettingWithCopyWarning: \n",
      "A value is trying to be set on a copy of a slice from a DataFrame\n",
      "\n",
      "See the caveats in the documentation: http://pandas.pydata.org/pandas-docs/stable/indexing.html#indexing-view-versus-copy\n",
      "  self[name] = value\n"
     ]
    }
   ],
   "source": [
    "# Training Graph Classifier:\n",
    "x_train, x_test, y_train, y_test = train_test_split(graph_tensor,graph_labels,test_size=0.10,random_state=0)\n",
    "data = ((x_train, y_train), (x_test, y_test))\n",
    "input_shape = x_train.shape[1:]\n",
    "\n",
    "patchy_classifier = GraphClassifier(input_shape,n_class)\n",
    "patchy_classifier.build_the_graph(capsule_params)\n",
    "##\n",
    "#patchy_classifier.train_model.summary()\n",
    "\n",
    "parameter_set.epochs = 200\n",
    "patchy_classifier.train(data, parameter_set)\n",
    "print('validation accuracy: {}'.format(patchy_classifier.results.val_capsnet_acc))"
   ]
  },
  {
   "cell_type": "code",
   "execution_count": 10,
   "metadata": {},
   "outputs": [
    {
     "name": "stdout",
     "output_type": "stream",
     "text": [
      "(160, 8)\n",
      "(188, 1280)\n"
     ]
    }
   ],
   "source": [
    "embedding_func = K.function([patchy_classifier.eval_model.input], [patchy_classifier.primarycaps])\n",
    "x_eval = graph_tensor\n",
    "y_eval = graph_labels\n",
    "node_embeddings=embedding_func([x_eval])[0]\n",
    "print(node_embeddings[0].shape)\n",
    "X = node_embeddings.reshape(node_embeddings.shape[0],-1)\n",
    "print(X.shape)"
   ]
  },
  {
   "cell_type": "code",
   "execution_count": 11,
   "metadata": {
    "collapsed": true
   },
   "outputs": [],
   "source": [
    "df = pd.read_csv(patchy_classifier.log_file)  # ,index_col=0)\n",
    "#df = df.loc[:, ['epoch', 'capsnet_acc', 'val_capsnet_acc']]\n",
    "#results = df.iloc[-1, :]  # .val_capsnet_acc\n",
    "#df.head(15)"
   ]
  },
  {
   "cell_type": "code",
   "execution_count": 12,
   "metadata": {},
   "outputs": [
    {
     "data": {
      "image/png": "[encoded data removed]",
      "text/plain": [
       "<Figure size 576x396 with 4 Axes>"
      ]
     },
     "metadata": {},
     "output_type": "display_data"
    },
    {
     "name": "stdout",
     "output_type": "stream",
     "text": [
      "validation accuracy: 0.8947368264198303\n"
     ]
    }
   ],
   "source": [
    "# Multiplots\n",
    "\n",
    "plt.subplot(2,2,1)\n",
    "plt.plot(df.capsnet_loss)\n",
    "plt.xlabel('epochs')\n",
    "plt.ylabel('loss')\n",
    "plt.title('Training Loss')\n",
    "\n",
    "plt.subplot(2,2,2)\n",
    "plt.plot(df.capsnet_acc)\n",
    "plt.xlabel('epochs')\n",
    "plt.ylabel('accuracy')\n",
    "plt.title('Training Accuracy')\n",
    "\n",
    "plt.subplot(2,2,3)\n",
    "plt.plot(df.val_capsnet_loss)\n",
    "plt.xlabel('epochs')\n",
    "plt.ylabel('loss')\n",
    "plt.title('Validation Loss')\n",
    "\n",
    "\n",
    "plt.subplot(2,2,4)\n",
    "plt.plot(df.val_capsnet_acc)\n",
    "plt.xlabel('epochs')\n",
    "plt.ylabel('accuracy')\n",
    "plt.title('Validation Accuracy')\n",
    "plt.tight_layout()\n",
    "\n",
    "\n",
    "plt.show()\n",
    "print('validation accuracy: {}'.format(patchy_classifier.results.val_capsnet_acc))"
   ]
  },
  {
   "cell_type": "code",
   "execution_count": 18,
   "metadata": {
    "collapsed": true
   },
   "outputs": [],
   "source": [
    "perplexity = 20\n",
    "embedding = TSNE(n_components=2,perplexity=perplexity)\n",
    "X_r = embedding.fit_transform(X)\n",
    "target_ids = np.unique(graph_labels)\n",
    "target_names = ['neg', 'pos']\n",
    "\n",
    "embedding = TSNE(n_components=2,perplexity=perplexity)\n",
    "X_patchy = graph_tensor.reshape(graph_tensor.shape[0],-1)\n",
    "X_rp = embedding.fit_transform(X_patchy)"
   ]
  },
  {
   "cell_type": "code",
   "execution_count": 19,
   "metadata": {
    "collapsed": true
   },
   "outputs": [],
   "source": [
    "# Getting the embeddings:\n",
    "#embedding_func = K.function([patchy_classifier.eval_model.input], [patchy_classifier.conv1])\n",
    "#node_embeddings = embedding_func([x_train])\n",
    "\n",
    "# embedding_func = K.function([patchy_classifier.eval_model.input], [patchy_classifier.graphcaps])\n",
    "# node_embeddings = embedding_func([x_train])[0]\n",
    "\n",
    "\n",
    "# embedding_func = K.function([patchy_classifier.eval_model.input], [patchy_classifier.primarycaps])\n",
    "# x_eval = graph_tensor\n",
    "# y_eval = graph_labels\n",
    "# node_embeddings=embedding_func([x_eval])[0]\n",
    "# print(node_embeddings[0].shape)\n",
    "# X = node_embeddings.reshape(node_embeddings.shape[0],-1)\n",
    "# print(X.shape)"
   ]
  },
  {
   "cell_type": "code",
   "execution_count": 20,
   "metadata": {},
   "outputs": [
    {
     "name": "stdout",
     "output_type": "stream",
     "text": [
      "Fold 0 completed with val acc : 0.8421052694320679\n"
     ]
    },
    {
     "name": "stderr",
     "output_type": "stream",
     "text": [
      "/anaconda3/lib/python3.6/site-packages/ipykernel_launcher.py:9: UserWarning: Update your `Model` call to the Keras 2 API: `Model(inputs=Tensor(\"co..., outputs=Tensor(\"de...)`\n",
      "  if __name__ == '__main__':\n"
     ]
    }
   ],
   "source": [
    "j = 0\n",
    "epochs = 200\n",
    "patchy_cnn = ConvNetPatchy(graph_tensor, graph_labels)\n",
    "patchy_cnn.split_data(random_state=j)\n",
    "patchy_cnn.build_graph()\n",
    "patchy_cnn.train_model(epochs=epochs)\n",
    "print('Fold {} completed with val acc : {}'.format(j, patchy_cnn.final_val_acc))\n",
    "\n",
    "intermediate_layer = Model(input=patchy_cnn.model.input, output= patchy_cnn.model.get_layer(index=3).output)\n",
    "X_cnn = intermediate_layer.predict(graph_tensor)\n",
    "X_cnn = X_cnn.reshape(X_cnn.shape[0],-1)\n"
   ]
  },
  {
   "cell_type": "code",
   "execution_count": 21,
   "metadata": {
    "collapsed": true
   },
   "outputs": [],
   "source": [
    "embedding = TSNE(n_components=2,perplexity=perplexity)\n",
    "X_cnn_emb = embedding.fit_transform(X_cnn)"
   ]
  },
  {
   "cell_type": "code",
   "execution_count": 24,
   "metadata": {
    "collapsed": true
   },
   "outputs": [],
   "source": [
    "embedding = TSNE(n_components=2,perplexity=perplexity)\n",
    "X_nauty = embedding.fit_transform(nauty_tensor.reshape(nauty_tensor.shape[0],-1))"
   ]
  },
  {
   "cell_type": "code",
   "execution_count": 29,
   "metadata": {},
   "outputs": [
    {
     "data": {
      "text/plain": [
       "Text(0.5, 1.0, 't-sne from patchy representations')"
      ]
     },
     "execution_count": 29,
     "metadata": {},
     "output_type": "execute_result"
    },
    {
     "data": {
      "image/png": "[encoded data removed]",
      "text/plain": [
       "<Figure size 576x396 with 1 Axes>"
      ]
     },
     "metadata": {},
     "output_type": "display_data"
    }
   ],
   "source": [
    "for i, label in zip(target_ids, target_names):\n",
    "    plt.scatter(X_nauty[y_eval== i][:,0],X_nauty[y_eval== i][:,1], label=label)\n",
    "\n",
    "plt.xlabel('1st t-SNE Dimension')\n",
    "plt.ylabel('2nd t-SNE Dimension')\n",
    "plt.legend()\n",
    "plt.title('t-sne from patchy representations')\n"
   ]
  },
  {
   "cell_type": "code",
   "execution_count": 31,
   "metadata": {},
   "outputs": [
    {
     "data": {
      "text/plain": [
       "Text(0.5, 1.0, 't-sne from patchy representations')"
      ]
     },
     "execution_count": 31,
     "metadata": {},
     "output_type": "execute_result"
    },
    {
     "data": {
      "image/png": "[encoded data removed]",
      "text/plain": [
       "<Figure size 1152x864 with 3 Axes>"
      ]
     },
     "metadata": {},
     "output_type": "display_data"
    }
   ],
   "source": [
    "import matplotlib.gridspec as gridspec\n",
    "\n",
    "# Create 2x2 sub plots\n",
    "gs = gridspec.GridSpec(2, 2)\n",
    "\n",
    "plt.figure(figsize=(16,12))\n",
    "ax = plt.subplot(gs[0, 0]) # row 0, col 0\n",
    "#ax.set_axis_off()\n",
    "for i, label in zip(target_ids, target_names):\n",
    "    plt.scatter(X_rp[y_eval== i][:,0],X_rp[y_eval== i][:,1], label=label)\n",
    "\n",
    "plt.xlabel('1st t-SNE Dimension')\n",
    "plt.ylabel('2nd t-SNE Dimension')\n",
    "plt.legend()\n",
    "plt.title('t-sne from patchy representations')\n",
    "\n",
    "\n",
    "ax = plt.subplot(gs[0, 1]) # row 1, span all columns\n",
    "for i, label in zip(target_ids, target_names):\n",
    "    plt.scatter(X_cnn_emb[y_eval== i][:,0],X_cnn_emb[y_eval== i][:,1], label=label)\n",
    "\n",
    "plt.xlabel('1st t-SNE Dimension')\n",
    "plt.ylabel('2nd t-SNE Dimension')\n",
    "plt.legend()\n",
    "plt.title('t-sne from convolutional layer')\n",
    "\n",
    "ax = plt.subplot(gs[1, :]) # row 0, col 1\n",
    "for i, label in zip(target_ids, target_names):\n",
    "    plt.scatter(X_r[y_eval== i][:,0],X_r[y_eval== i][:,1], label=label)\n",
    "plt.xlabel('1st t-SNE Dimension')\n",
    "plt.ylabel('2nd t-SNE Dimension')\n",
    "plt.legend()\n",
    "plt.title('t-sne from patchy representations')\n",
    "\n",
    "\n",
    "\n"
   ]
  },
  {
   "cell_type": "code",
   "execution_count": null,
   "metadata": {
    "collapsed": true
   },
   "outputs": [],
   "source": [
    "# # Training Graph Classifier:\n",
    "# x_train, x_test, y_train, y_test = train_test_split(graph_tensor,graph_labels,test_size=0.10,random_state=0)\n",
    "# data = ((x_train, y_train), (x_test, y_test))\n",
    "# input_shape = x_train.shape[1:]\n",
    "\n",
    "# patchy_classifier = GraphClassifier(input_shape,n_class)\n",
    "# patchy_classifier.build_the_graph(capsule_params)\n",
    "# ##\n",
    "# #patchy_classifier.train_model.summary()\n",
    "\n",
    "# parameter_set.epochs = 200\n",
    "# patchy_classifier.train(data, parameter_set)\n",
    "# print('validation accuracy: {}'.format(patchy_classifier.results.val_capsnet_acc))"
   ]
  },
  {
   "cell_type": "code",
   "execution_count": null,
   "metadata": {
    "collapsed": true
   },
   "outputs": [],
   "source": [
    "# Intra-cluster distance \n",
    "mse_caps = 0\n",
    "mean_patchy =0\n",
    "mse_cnn = 0\n",
    "for i in target_ids:\n",
    "    mean_point = np.tile(X_r[y_eval== i].mean(0),(X_r[y_eval== i].shape[0],1))\n",
    "    mse_caps += mean_squared_error(X_r[y_eval== i],mean_point)\n",
    "print(mse_caps)\n",
    "\n",
    "for i in target_ids:\n",
    "    mean_point = np.tile(X_rp[y_eval== i].mean(0),(X_rp[y_eval== i].shape[0],1))\n",
    "    mse_patchy += mean_squared_error(X_rp[y_eval== i],mean_point)\n",
    "print(mse_patchy)\n",
    "\n",
    "for i in target_ids:\n",
    "    mean_point = np.tile(X_cnn_emb[y_eval== i].mean(0),(X_cnn_emb[y_eval== i].shape[0],1))\n",
    "    mse_cnn += mean_squared_error(X_cnn_emb[y_eval== i],mean_point)\n",
    "print(mse_cnn)"
   ]
  },
  {
   "cell_type": "code",
   "execution_count": null,
   "metadata": {
    "collapsed": true
   },
   "outputs": [],
   "source": [
    "# Inter-cluster distance\n",
    "mean_point1 = X_r[y_eval== target_ids[0]].mean(0)\n",
    "mean_point2 = X_r[y_eval== target_ids[1]].mean(0)\n",
    "dist_caps = mean_squared_error(mean_point1,mean_point2)\n",
    "print(dist_caps)\n",
    "\n",
    "mean_point1 = X_rp[y_eval== target_ids[0]].mean(0)\n",
    "mean_point2 = X_rp[y_eval== target_ids[1]].mean(0)\n",
    "dist_patchy = mean_squared_error(mean_point1,mean_point2)\n",
    "print(dist_patchy)\n",
    "mean_point1 = X_cnn_emb[y_eval== target_ids[0]].mean(0)\n",
    "mean_point2 = X_cnn_emb[y_eval== target_ids[1]].mean(0)\n",
    "dist_cnn = mean_squared_error(mean_point1,mean_point2)\n",
    "print(dist_cnn)"
   ]
  },
  {
   "cell_type": "code",
   "execution_count": null,
   "metadata": {
    "collapsed": true
   },
   "outputs": [],
   "source": []
  },
  {
   "cell_type": "code",
   "execution_count": null,
   "metadata": {
    "collapsed": true
   },
   "outputs": [],
   "source": []
  },
  {
   "cell_type": "code",
   "execution_count": null,
   "metadata": {
    "collapsed": true
   },
   "outputs": [],
   "source": [
    "mean_point = np.tile(X_cnn_emb[y_eval== i].mean(0),(X_cnn_emb[y_eval== i].shape[0],1))\n",
    "mean_squared_error(X_cnn_emb[y_eval== i],mean_point)"
   ]
  },
  {
   "cell_type": "code",
   "execution_count": null,
   "metadata": {
    "collapsed": true
   },
   "outputs": [],
   "source": []
  },
  {
   "cell_type": "code",
   "execution_count": null,
   "metadata": {
    "collapsed": true
   },
   "outputs": [],
   "source": []
  },
  {
   "cell_type": "markdown",
   "metadata": {},
   "source": [
    "## PCA"
   ]
  },
  {
   "cell_type": "code",
   "execution_count": null,
   "metadata": {
    "collapsed": true
   },
   "outputs": [],
   "source": [
    "# PCA:\n",
    "pca = PCA(n_components=2)\n",
    "pca.fit(X)\n",
    "\n",
    "\n",
    "print('explained variance ratio: {}'.format(pca.explained_variance_ratio_))\n",
    "print('Singular values : {}'.format(pca.singular_values_)  )\n",
    "target_ids = np.unique(graph_labels)\n",
    "target_names = ['neg', 'pos']\n",
    "plt.figure(figsize=(6, 5))\n",
    "for i, label in zip(target_ids, target_names):\n",
    "    plt.scatter(X_r[y_eval== i][:,0],X_r[y_eval== i][:,1], label=label)\n",
    "    plt.xlabel('1st PCA Dimension')\n",
    "    plt.ylabel('2nd PCA Dimension')\n",
    "plt.legend()\n",
    "plt.show()"
   ]
  },
  {
   "cell_type": "code",
   "execution_count": null,
   "metadata": {
    "collapsed": true
   },
   "outputs": [],
   "source": [
    "import matplotlib.gridspec as gridspec\n",
    "\n",
    "# Create 2x2 sub plots\n",
    "gs = gridspec.GridSpec(2, 2)\n",
    "\n",
    "plt.figure(figsize=(16,12))\n",
    "ax = plt.subplot(gs[0, 0]) # row 0, col 0\n",
    "#ax.set_axis_off()\n",
    "for i, label in zip(target_ids, target_names):\n",
    "    plt.scatter(X_rp[y_eval== i][:,0],X_rp[y_eval== i][:,1], label=label)\n",
    "\n",
    "plt.xlabel('1st t-SNE Dimension')\n",
    "plt.ylabel('2nd t-SNE Dimension')\n",
    "plt.legend()\n",
    "plt.title('t-sne from patchy representations')\n",
    "\n",
    "\n",
    "ax = plt.subplot(gs[0, 1]) # row 1, span all columns\n",
    "for i, label in zip(target_ids, target_names):\n",
    "    plt.scatter(X_cnn_emb[y_eval== i][:,0],X_cnn_emb[y_eval== i][:,1], label=label)\n",
    "\n",
    "plt.xlabel('1st t-SNE Dimension')\n",
    "plt.ylabel('2nd t-SNE Dimension')\n",
    "plt.legend()\n",
    "plt.title('t-sne from convolutional layer')\n",
    "\n",
    "ax = plt.subplot(gs[1, :]) # row 0, col 1\n",
    "for i, label in zip(target_ids, target_names):\n",
    "    plt.scatter(X_r[y_eval== i][:,0],X_r[y_eval== i][:,1], label=label)\n",
    "plt.xlabel('1st t-SNE Dimension')\n",
    "plt.ylabel('2nd t-SNE Dimension')\n",
    "plt.legend()\n",
    "plt.title('t-sne from patchy representations')\n",
    "\n",
    "\n",
    "\n"
   ]
  },
  {
   "cell_type": "code",
   "execution_count": null,
   "metadata": {
    "collapsed": true
   },
   "outputs": [],
   "source": []
  },
  {
   "cell_type": "code",
   "execution_count": null,
   "metadata": {
    "collapsed": true
   },
   "outputs": [],
   "source": []
  },
  {
   "cell_type": "code",
   "execution_count": null,
   "metadata": {
    "collapsed": true
   },
   "outputs": [],
   "source": []
  },
  {
   "cell_type": "code",
   "execution_count": null,
   "metadata": {
    "collapsed": true
   },
   "outputs": [],
   "source": []
  },
  {
   "cell_type": "markdown",
   "metadata": {},
   "source": [
    "### Testing with SVM"
   ]
  },
  {
   "cell_type": "code",
   "execution_count": null,
   "metadata": {
    "collapsed": true
   },
   "outputs": [],
   "source": [
    "\n",
    "\n",
    "# acc_list = []\n",
    "# for j in range(10):\n",
    "#     x_train, x_test, y_train, y_test = train_test_split(graph_tensor,graph_labels,test_size=0.10,random_state=j)\n",
    "#     #data = ((x_train, y_train), (x_test, y_test))\n",
    "#     #input_shape = x_train.shape[1:]\n",
    "#     X = x_train.reshape(x_train.shape[0],-1)\n",
    "#     y = y_train.reshape(y_train.shape[0],-1)\n",
    "#     clf = svm.SVC()\n",
    "#     clf.fit(X, y)  \n",
    "#     X_test_svm = x_test.reshape(x_test.shape[0],-1)\n",
    "#     y_test_svm = y_test.reshape(y_test.shape[0],-1)\n",
    "#     y_pred = clf.predict(X_test_svm)\n",
    "#     acc = accuracy_score(y_pred,y_test_svm)\n",
    "#     acc_list.append(acc)\n",
    "#     print(acc)\n",
    "# print('mean acc : {}'.format(np.mean(acc_list)))\n",
    "# print('std acc : {}'.format(np.std(acc_list)))\n",
    "    "
   ]
  },
  {
   "cell_type": "code",
   "execution_count": null,
   "metadata": {
    "collapsed": true
   },
   "outputs": [],
   "source": []
  },
  {
   "cell_type": "code",
   "execution_count": null,
   "metadata": {
    "collapsed": true
   },
   "outputs": [],
   "source": [
    "# patchy_classifier = GraphClassifier(input_shape,6)\n",
    "# patchy_classifier.build_the_graph(capsule_params)\n",
    "# patchy_classifier.train(data, parameter_set)\n",
    "#patchy_classifier.train_model.summary()"
   ]
  },
  {
   "cell_type": "code",
   "execution_count": null,
   "metadata": {
    "collapsed": true
   },
   "outputs": [],
   "source": []
  },
  {
   "cell_type": "code",
   "execution_count": null,
   "metadata": {
    "collapsed": true
   },
   "outputs": [],
   "source": []
  },
  {
   "cell_type": "code",
   "execution_count": null,
   "metadata": {
    "collapsed": true
   },
   "outputs": [],
   "source": []
  },
  {
   "cell_type": "code",
   "execution_count": null,
   "metadata": {
    "collapsed": true
   },
   "outputs": [],
   "source": []
  },
  {
   "cell_type": "code",
   "execution_count": null,
   "metadata": {
    "collapsed": true
   },
   "outputs": [],
   "source": []
  },
  {
   "cell_type": "code",
   "execution_count": null,
   "metadata": {
    "collapsed": true
   },
   "outputs": [],
   "source": []
  }
 ],
 "metadata": {
  "kernelspec": {
   "display_name": "Python 3",
   "language": "python",
   "name": "python3"
  },
  "language_info": {
   "codemirror_mode": {
    "name": "ipython",
    "version": 3
   },
   "file_extension": ".py",
   "mimetype": "text/x-python",
   "name": "python",
   "nbconvert_exporter": "python",
   "pygments_lexer": "ipython3",
   "version": "3.6.3"
  }
 },
 "nbformat": 4,
 "nbformat_minor": 2
}
