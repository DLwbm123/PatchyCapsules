{
 "cells": [
  {
   "cell_type": "code",
   "execution_count": 1,
   "metadata": {},
   "outputs": [
    {
     "name": "stderr",
     "output_type": "stream",
     "text": [
      "/anaconda3/lib/python3.6/site-packages/h5py/__init__.py:34: FutureWarning: Conversion of the second argument of issubdtype from `float` to `np.floating` is deprecated. In future, it will be treated as `np.float64 == np.dtype(float).type`.\n",
      "  from ._conv import register_converters as _register_converters\n"
     ]
    }
   ],
   "source": [
    "import tensorflow as tf\n",
    "import numpy as np"
   ]
  },
  {
   "cell_type": "code",
   "execution_count": 2,
   "metadata": {
    "collapsed": true
   },
   "outputs": [],
   "source": [
    "# Functions:\n",
    "def reset_graph(seed=42):\n",
    "    tf.reset_default_graph()\n",
    "    tf.set_random_seed(seed)\n",
    "    np.random.seed(seed)\n",
    "    \n",
    "# def squash(vector):\n",
    "#     epsilon = 0.001\n",
    "#     norm_vector = tf.sqrt(tf.reduce_sum(tf.square(vector)))\n",
    "#     norm_vector_epsilon = tf.sqrt(tf.reduce_sum(tf.square(vector))+epsilon)\n",
    "    \n",
    "#     return norm_vector/(norm_vector+1)*(tf.norm(vector)/tf.norm(vector))\n",
    "\n",
    "\n",
    "def squash(vector):\n",
    "    '''Squashing function.\n",
    "    Args:\n",
    "        vector: A 4-D tensor with shape [batch_size, num_caps, vec_len, 1],\n",
    "    Returns:\n",
    "        A 4-D tensor with the same shape as vector but\n",
    "        squashed in 3rd and 4th dimensions.\n",
    "    '''\n",
    "    vec_abs = tf.sqrt(tf.reduce_sum(tf.square(vector)))  # a scalar\n",
    "    scalar_factor = tf.square(vec_abs) / (1 + tf.square(vec_abs))\n",
    "    vec_squashed = scalar_factor * tf.divide(vector, vec_abs)  # element-wise\n",
    "    return(vec_squashed)"
   ]
  },
  {
   "cell_type": "code",
   "execution_count": 3,
   "metadata": {
    "collapsed": true
   },
   "outputs": [],
   "source": [
    "# Downloading mnist dataset:\n",
    "(X_train, y_train), (X_test, y_test) = tf.keras.datasets.mnist.load_data()\n",
    "X_train = X_train.astype(np.float32).reshape(-1, 28, 28,1) / 255.0\n",
    "X_test = X_test.astype(np.float32).reshape(-1, 28, 28,1) / 255.0\n",
    "y_train = y_train.astype(np.int32)\n",
    "y_test = y_test.astype(np.int32)\n",
    "X_valid, X_train = X_train[:55000], X_train[55000:]\n",
    "y_valid, y_train = y_train[:55000], y_train[55000:]"
   ]
  },
  {
   "cell_type": "code",
   "execution_count": 89,
   "metadata": {
    "collapsed": true
   },
   "outputs": [],
   "source": [
    "# Some constants:\n",
    "dim1 = X_train.shape[0]\n",
    "n_inputs = 28*28\n",
    "channels = 1\n",
    "#n_output_conv1 = (20,20,256)\n",
    "height,width = 28,28\n",
    "# constants:\n",
    "MAX_ITER = 5"
   ]
  },
  {
   "cell_type": "code",
   "execution_count": 97,
   "metadata": {
    "collapsed": true
   },
   "outputs": [],
   "source": [
    "# Initialize graph:\n",
    "reset_graph()\n",
    "# Placeholders:\n",
    "X = tf.placeholder(shape=(dim1, height, width, channels), dtype=tf.float32)\n",
    "y = tf.placeholder(tf.int32, shape=(dim1), name=\"y\")"
   ]
  },
  {
   "cell_type": "code",
   "execution_count": 98,
   "metadata": {},
   "outputs": [
    {
     "name": "stdout",
     "output_type": "stream",
     "text": [
      "(5000, 20, 20, 256)\n"
     ]
    }
   ],
   "source": [
    "# First Conv layer:\n",
    "with tf.name_scope('cnn'):\n",
    "    conv = tf.layers.conv2d(X, filters=256, kernel_size=9, strides=[1,1], padding='VALID')\n",
    "    print(conv.shape)"
   ]
  },
  {
   "cell_type": "code",
   "execution_count": 99,
   "metadata": {},
   "outputs": [
    {
     "name": "stdout",
     "output_type": "stream",
     "text": [
      "caps shape:  (5000, 6, 6, 256)\n",
      "u_i shape:  (5000, 1152, 8, 1)\n"
     ]
    }
   ],
   "source": [
    "# Problems with the implementation?\n",
    "# First Capsule LAyer:\n",
    "with tf.name_scope('caps'):\n",
    "    caps = tf.layers.conv2d(conv,filters=256,kernel_size=9,strides=[2,2],padding='VALID')\n",
    "    print('caps shape: ',caps.shape)\n",
    "    u_i = tf.reshape(caps, shape=[-1,32*6*6,8,1])\n",
    "    #caps2 = tf.layers.conv2d(caps1,filters=8,kernel_size=9,strides=[2,2],padding='VALID')\n",
    "    u_i = squash(u_i)\n",
    "    print('u_i shape: ',u_i.shape)\n",
    "    #a_caps1 = squash(caps1)"
   ]
  },
  {
   "cell_type": "code",
   "execution_count": 100,
   "metadata": {},
   "outputs": [],
   "source": [
    "# # First Capsule LAyer:\n",
    "# with tf.name_scope('caps'):\n",
    "#     caps_list = []\n",
    "#     for i in range(8):\n",
    "#         caps_i = tf.layers.conv2d(conv,filters=32,kernel_size=9,strides=[2,2],padding='VALID')\n",
    "#         caps_i = tf.reshape(caps_i, [5000,6,6,32,1])\n",
    "#         caps_list.append(caps_i)\n",
    "        \n",
    "#     u_i = tf.concat(caps_list,axis = -1)\n",
    "#     print('caps shape: ',u_i.shape)\n",
    "#     u_i = tf.reshape(u_i, shape=[-1,32*6*6,8,1])\n",
    "#     #caps2 = tf.layers.conv2d(caps1,filters=8,kernel_size=9,strides=[2,2],padding='VALID')\n",
    "#     u_i = squash(u_i)\n",
    "#     print('u_i shape: ',u_i.shape)\n",
    "#     #a_caps1 = squash(caps1)"
   ]
  },
  {
   "cell_type": "code",
   "execution_count": 101,
   "metadata": {},
   "outputs": [
    {
     "name": "stdout",
     "output_type": "stream",
     "text": [
      "W_Ij shape:  (5000, 1152, 10, 8, 16)\n",
      "u_i shape:  (5000, 1152, 10, 8, 1)\n",
      "u_hat shape:  (5000, 1152, 10, 16, 1)\n",
      "b_IJ shape:  (5000, 1152, 10, 1, 1)\n",
      "u_hat shape:  (5000, 1152, 10, 16, 1)\n",
      "c shape:  (5000, 1152, 10, 1, 1)\n",
      "s_j shape:  (5000, 1, 10, 16, 1)\n",
      "v shape:  (5000, 1, 10, 16, 1)\n",
      "a shape:  (5000, 1152, 10, 1, 1)\n",
      "b_IJ shape:  (5000, 1152, 10, 1, 1)\n"
     ]
    }
   ],
   "source": [
    "# Routing:\n",
    "\n",
    "with tf.variable_scope('final_layer'):\n",
    "    w_initializer = np.random.normal(size=[1, 1152, 10, 8, 16], scale=0.01)\n",
    "    W = tf.Variable(w_initializer, dtype=tf.float32)\n",
    "\n",
    "    # repeat W_Ij with batch_size times to shape [batch_size, 1152, 8, 16]\n",
    "    W = tf.tile(W, [5000, 1, 1, 1,1])\n",
    "    print('W_Ij shape: ',W_Ij.shape)\n",
    "    # calc u_ahat\n",
    "    # [8, 16].T x [8, 1] => [16, 1] => [batch_size, 1152, 16, 1]\n",
    "    u_i = tf.reshape(u_i, shape=(5000, -1, 1, u_i.shape[-2].value, 1))\n",
    "    u_i = tf.tile(u_i, [1,1,10,1,1])\n",
    "    print('u_i shape: ',u_i.shape)\n",
    "    u_hat = tf.matmul(W, u_i, transpose_a=True)\n",
    "    print('u_hat shape: ',u_hat.shape)\n",
    "    \n",
    "    with tf.variable_scope('routing'):\n",
    "        # Initialize constants:\n",
    "        b_IJ = tf.zeros([5000, u_i.shape[1].value, 10, 1, 1], dtype=np.float32)\n",
    "        print('b_IJ shape: ',b_IJ.shape)\n",
    "        v,b_IJ = routing(u_hat,b_IJ)"
   ]
  },
  {
   "cell_type": "code",
   "execution_count": 95,
   "metadata": {
    "collapsed": true
   },
   "outputs": [],
   "source": [
    "def routing(u_hat,b_IJ):\n",
    "    # Stopping the routing:\n",
    "    u_hat_stopped = tf.stop_gradient(u_hat, name='u_hat_stopped')\n",
    "    print('u_hat shape: ',u_hat_stopped.shape)\n",
    "    # Routing\n",
    "    with tf.name_scope('routing'):\n",
    "        for r_iter in range(MAX_ITER):\n",
    "            c = tf.nn.softmax(b_IJ,axis=2)\n",
    "            assert c.get_shape().as_list() == [5000,1152,10,1,1]\n",
    "            if r_iter == MAX_ITER-1:\n",
    "                s_j = tf.reduce_sum(tf.multiply(c,u_hat),axis = 1, keepdims = True)\n",
    "                v = squash(s_j)\n",
    "            else:\n",
    "                s_j = tf.reduce_sum(tf.multiply(c,u_hat_stopped),axis = 1,keepdims=True)\n",
    "                v = squash(s_j)\n",
    "                v_tiled = tf.tile(v,[1, 1152,1,1,1])\n",
    "                a = tf.matmul(u_hat_stopped, v_tiled, transpose_a=True)\n",
    "                b_IJ = b_IJ + a\n",
    "        print('c shape: ',c.shape)\n",
    "        print('s_j shape: ',s_j.shape)\n",
    "        print('v shape: ',v.shape)\n",
    "        print('a shape: ',a.shape)\n",
    "        print('b_IJ shape: ',b_IJ.shape)\n",
    "    return v,b_IJ"
   ]
  },
  {
   "cell_type": "code",
   "execution_count": null,
   "metadata": {
    "collapsed": true
   },
   "outputs": [],
   "source": []
  },
  {
   "cell_type": "code",
   "execution_count": null,
   "metadata": {
    "collapsed": true
   },
   "outputs": [],
   "source": [
    "def routing(u_hat, b):\n",
    "    v = []\n",
    "    #b_shape = b.get_shape().as_list()\n",
    "    u_hat_stopped = tf.stop_gradient(u_hat, name='u_hat_stopped')\n",
    "       \n",
    "    for r_iter ain range(MAX_ITER):\n",
    "        c = tf.nn.softmax(b,axis=2)\n",
    "        assert c.get_shape() == [1, 1152, 10, 1]\n",
    "        c = tf.tile(c,[5000,1,1,1])\n",
    "#             b_il, b_ij, b_ir = tf.split(b, size_splits, axis=2)\n",
    "#             c_il, c_ij, c_ir = tf.split(c, size_splits, axis=2)\n",
    "\n",
    "        # Calculating c_ij\n",
    "        #c_ij = c[:,:,j,:]\n",
    "        #new_shape_c_ij = c_ij.get_shape().as_list() + [1]\n",
    "        #c_ij = tf.reshape(c_ij, new_shape_c_ij)\n",
    "\n",
    "        #assert c_ij.get_shape() == [1, 1152, 1, 1]\n",
    "\n",
    "        # Computing s_j\n",
    "        if j == MAX_ITER-1:\n",
    "            s_j = tf.reduce_sum(tf.multiply(c,u_hat))\n",
    "\n",
    "\n",
    "\n",
    "\n",
    "            s_j = tf.reduce_sum(tf.multiply(c_ij, u_hat),axis=1, keepdims=True)\n",
    "        assert s_j.get_shape() == [5000, 1, 16, 1]\n",
    "\n",
    "        # computing v_j\n",
    "        v_j = squash(s_j)\n",
    "        # updating b_ij:\n",
    "\n",
    "        v_j_tiled = tf.tile(v_j, [1,1152,1,1])\n",
    "        a_ij = tf.reduce_sum(tf.matmul(u_hat,v_j_tiled, transpose_a=True),axis = 0, keepdims=True)\n",
    "        #print(v_j.shape)\n",
    "        #print(a_ij.shape)\n",
    "\n",
    "        b_ij += a_ij\n",
    "        #print('b_ij shape: ',b_ij.shape)\n",
    "        b = tf.concat([b_il, b_ij, b_ir] ,axis =2)\n",
    "        v.append(v_j)\n",
    "    v = tf.concat(v,axis=1)\n",
    "\n",
    "    print('c_ij shape: ',c_ij.shape)\n",
    "    print('s_j shape: ',s_j.shape)\n",
    "    print('v_j shape: ',v_j.shape)\n",
    "    print('v_j_tiled shape: ',v_j_tiled.shape)\n",
    "    print('a_ij shape: ',a_ij.shape)\n",
    "    print('v shape: ',v.shape)"
   ]
  },
  {
   "cell_type": "code",
   "execution_count": null,
   "metadata": {
    "collapsed": true
   },
   "outputs": [],
   "source": []
  },
  {
   "cell_type": "code",
   "execution_count": null,
   "metadata": {
    "collapsed": true
   },
   "outputs": [],
   "source": []
  },
  {
   "cell_type": "code",
   "execution_count": null,
   "metadata": {
    "collapsed": true
   },
   "outputs": [],
   "source": []
  },
  {
   "cell_type": "code",
   "execution_count": null,
   "metadata": {
    "collapsed": true
   },
   "outputs": [],
   "source": []
  },
  {
   "cell_type": "code",
   "execution_count": null,
   "metadata": {
    "collapsed": true
   },
   "outputs": [],
   "source": [
    "def routing(u_hat, b):\n",
    "    v = []\n",
    "    #b_shape = b.get_shape().as_list()\n",
    "    u_hat_stopped = tf.stop_gradient(u_hat, name='u_hat_stopped')\n",
    "    for j in range(10):   \n",
    "        size_splits = [j, 1, b_shape[2] - j - 1]\n",
    "        \n",
    "        for r_iter in range(MAX_ITER):\n",
    "            c = tf.nn.softmax(b,axis=2)\n",
    "\n",
    "            assert c.get_shape() == [1, 1152, 10, 1]\n",
    "            \n",
    "            c = tf.tile(c,[5000,1,1,1])\n",
    "#             b_il, b_ij, b_ir = tf.split(b, size_splits, axis=2)\n",
    "#             c_il, c_ij, c_ir = tf.split(c, size_splits, axis=2)\n",
    "        \n",
    "            # Calculating c_ij\n",
    "            #c_ij = c[:,:,j,:]\n",
    "            #new_shape_c_ij = c_ij.get_shape().as_list() + [1]\n",
    "            #c_ij = tf.reshape(c_ij, new_shape_c_ij)\n",
    "            \n",
    "            #assert c_ij.get_shape() == [1, 1152, 1, 1]\n",
    "            \n",
    "            # Computing s_j\n",
    "            if j == MAX_ITER-1:\n",
    "                s_j = tf.reduce_sum(tf.multiply(c,u_hat))\n",
    "                \n",
    "                \n",
    "                \n",
    "                \n",
    "                s_j = tf.reduce_sum(tf.multiply(c_ij, u_hat),axis=1, keepdims=True)\n",
    "            assert s_j.get_shape() == [5000, 1, 16, 1]\n",
    "            \n",
    "            # computing v_j\n",
    "            v_j = squash(s_j)\n",
    "            # updating b_ij:\n",
    "            \n",
    "            v_j_tiled = tf.tile(v_j, [1,1152,1,1])\n",
    "            a_ij = tf.reduce_sum(tf.matmul(u_hat,v_j_tiled, transpose_a=True),axis = 0, keepdims=True)\n",
    "            #print(v_j.shape)\n",
    "            #print(a_ij.shape)\n",
    "            \n",
    "            b_ij += a_ij\n",
    "            #print('b_ij shape: ',b_ij.shape)\n",
    "            b = tf.concat([b_il, b_ij, b_ir] ,axis =2)\n",
    "        v.append(v_j)\n",
    "    v = tf.concat(v,axis=1)\n",
    "    \n",
    "    print('c_ij shape: ',c_ij.shape)\n",
    "    print('s_j shape: ',s_j.shape)\n",
    "    print('v_j shape: ',v_j.shape)\n",
    "    print('v_j_tiled shape: ',v_j_tiled.shape)\n",
    "    print('a_ij shape: ',a_ij.shape)\n",
    "    print('v shape: ',v.shape)"
   ]
  },
  {
   "cell_type": "code",
   "execution_count": null,
   "metadata": {
    "collapsed": true
   },
   "outputs": [],
   "source": []
  },
  {
   "cell_type": "code",
   "execution_count": null,
   "metadata": {
    "collapsed": true
   },
   "outputs": [],
   "source": []
  },
  {
   "cell_type": "code",
   "execution_count": null,
   "metadata": {
    "collapsed": true
   },
   "outputs": [],
   "source": [
    "sess = tf.Session()\n",
    "\n",
    "# Create example y_hat.\n",
    "sess.run(tf.global_variables_initializer())\n",
    "a_test = sess.run(a_ij, feed_dict={X:X_train, y: y_train})\n",
    "\n",
    "sess.close()"
   ]
  },
  {
   "cell_type": "code",
   "execution_count": null,
   "metadata": {},
   "outputs": [],
   "source": [
    "a_test"
   ]
  },
  {
   "cell_type": "code",
   "execution_count": null,
   "metadata": {
    "collapsed": true
   },
   "outputs": [],
   "source": []
  },
  {
   "cell_type": "code",
   "execution_count": null,
   "metadata": {
    "collapsed": true
   },
   "outputs": [],
   "source": []
  },
  {
   "cell_type": "code",
   "execution_count": null,
   "metadata": {
    "collapsed": true
   },
   "outputs": [],
   "source": [
    "with tf.name_scope('digit_caps'):\n",
    "    W = tf.Variable( tf.random_uniform((8,16),seed = 1), name=\"theta\",dtype=tf.float32)\n",
    "    u_ji = tf.reshape(tf.matmul(tf.reshape(u_i,[5000*1152,8]),W),[5000,1152,16])\n",
    "    v_j = routing(u_ji, num_iter)\n",
    "    \n",
    "    \n",
    "    \n",
    "    \n",
    "    \n",
    "    "
   ]
  },
  {
   "cell_type": "code",
   "execution_count": null,
   "metadata": {
    "collapsed": true
   },
   "outputs": [],
   "source": [
    "# Testing:\n",
    "sess = tf.InteractiveSession()\n",
    "\n",
    "# We can just use 'c.eval()' without passing 'sess'\n",
    "sess.run(tf.global_variables_initializer())\n",
    "\n",
    "#print(a.eval(feed_dict=X_test))\n",
    "print(c.eval())\n",
    "sess.close()"
   ]
  },
  {
   "cell_type": "code",
   "execution_count": null,
   "metadata": {
    "collapsed": true
   },
   "outputs": [],
   "source": [
    "# Testing class Caps Layer:"
   ]
  },
  {
   "cell_type": "code",
   "execution_count": null,
   "metadata": {
    "collapsed": true
   },
   "outputs": [],
   "source": [
    "class CapsLayer(object):\n",
    "    def __init__(self, input_tensor, num_capsules, digit_layer = False):\n",
    "        self.input = input_tensor\n",
    "        self.num_capsules = num_capsules\n",
    "        \n",
    "    def __call__(self, num_filters, kernel_size, strides):\n",
    "        # In case it is a primary layer:\n",
    "        if digit_layer == False:\n",
    "            conv = tf.layers.conv2d(inputs=self.input, filters=num_filters, \\\n",
    "                                    kernel_size=kernel_size, activation=tf.nn.relu, \\\n",
    "                                    strides=strides, padding = 'SAME' )\n",
    "            caps = self.squash(conv)\n",
    "            return caps\n",
    "        # In case it is a final layer:\n",
    "        else:\n",
    "            fcaps = self.routing(self.input)\n",
    "            return fcaps\n",
    "            \n",
    "        \n",
    "    def routing(self,capsule):\n",
    "    \n",
    "        \n",
    "    \n",
    "    def create_list_capsules(num_capsules):\n",
    "        for i in range(num_capsules)\n",
    "            if i == 0:\n",
    "                self.list_capsules.append(tf.layers.conv2d(input_tensor, \\\n",
    "                                                           filters=num_filters, \\\n",
    "                                                           kernel_size=kernel_size, \\\n",
    "                                                           strides=[2,2], \\\n",
    "                                                           padding='VALID'))\n",
    "            else:\n",
    "                self.list_capsules.append(create_capsule)\n",
    "        \n",
    "    def create_capsule(input_tensor, kernel_size, strides):\n",
    "        return tf.layers.conv2d(input_capsule, filters=num_filters, kernel_size=kernel_size, strides=[2,2], padding='VALID')\n",
    "    \n",
    "    def squashing(vector):\n",
    "        return tf.norm(vector)/(tf.norm(vector)+1)*(tf.norm(vector)/tf.norm(vector))\n",
    "    "
   ]
  },
  {
   "cell_type": "code",
   "execution_count": null,
   "metadata": {
    "collapsed": true
   },
   "outputs": [],
   "source": []
  },
  {
   "cell_type": "code",
   "execution_count": null,
   "metadata": {
    "collapsed": true
   },
   "outputs": [],
   "source": []
  },
  {
   "cell_type": "code",
   "execution_count": null,
   "metadata": {
    "collapsed": true
   },
   "outputs": [],
   "source": []
  }
 ],
 "metadata": {
  "kernelspec": {
   "display_name": "Python 3",
   "language": "python",
   "name": "python3"
  },
  "language_info": {
   "codemirror_mode": {
    "name": "ipython",
    "version": 3
   },
   "file_extension": ".py",
   "mimetype": "text/x-python",
   "name": "python",
   "nbconvert_exporter": "python",
   "pygments_lexer": "ipython3",
   "version": "3.6.3"
  }
 },
 "nbformat": 4,
 "nbformat_minor": 2
}
