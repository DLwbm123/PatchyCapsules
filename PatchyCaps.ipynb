{
 "cells": [
  {
   "cell_type": "code",
   "execution_count": 1,
   "metadata": {},
   "outputs": [
    {
     "name": "stderr",
     "output_type": "stream",
     "text": [
      "/anaconda3/lib/python3.6/site-packages/h5py/__init__.py:34: FutureWarning: Conversion of the second argument of issubdtype from `float` to `np.floating` is deprecated. In future, it will be treated as `np.float64 == np.dtype(float).type`.\n",
      "  from ._conv import register_converters as _register_converters\n",
      "Using TensorFlow backend.\n"
     ]
    }
   ],
   "source": [
    "import os\n",
    "import sys\n",
    "import pandas as pd\n",
    "import numpy as np\n",
    "from sklearn.model_selection import train_test_split\n",
    "from time import time\n",
    "from datetime import datetime\n",
    "from PIL import Image\n",
    "import argparse\n",
    "from collections import defaultdict\n",
    "\n",
    "from keras import layers, models, optimizers\n",
    "from keras import backend as K\n",
    "\n",
    "K.set_image_data_format('channels_last')\n",
    "from keras.utils import to_categorical\n",
    "from keras.preprocessing.image import ImageDataGenerator\n",
    "from keras import callbacks\n",
    "\n",
    "from keras.layers import Dense, Flatten\n",
    "from keras.layers import Conv2D, MaxPooling2D, Dropout\n",
    "from keras.models import Sequential\n",
    "from keras.losses import categorical_crossentropy\n",
    "\n",
    "from keras_tqdm import TQDMCallback\n",
    "\n",
    "from utils import plot_log,save_results_to_csv\n",
    "\n",
    "from capsulelayers import CapsuleLayer, PrimaryCap, Length, Mask\n",
    "\n",
    "sys.path.append('./PatchyTools/')\n",
    "from GraphConverter import GraphConverter\n",
    "from DropboxLoader import DropboxLoader\n",
    "from CapsuleParameters import CapsuleParameters\n",
    "from CapsuleParameters import CapsuleTrainingParameters\n",
    "from ConvNetPatchy import AccuracyHistory\n",
    "from GraphClassifier import GraphClassifier\n",
    "\n",
    "DIR_PATH = os.environ['GAMMA_DATA_ROOT']\n",
    "GRAPH_RELABEL_NAME = '_relabeled'\n",
    "RESULTS_PATH = os.path.join(DIR_PATH, 'Results/CapsuleSans/CNN_Caps_comparison.csv')\n",
    "\n"
   ]
  },
  {
   "cell_type": "markdown",
   "metadata": {},
   "source": [
    "### Load data"
   ]
  },
  {
   "cell_type": "code",
   "execution_count": 62,
   "metadata": {
    "collapsed": true
   },
   "outputs": [],
   "source": [
    "# Getting the data:\n",
    "dataset_name = 'NCI1'\n",
    "receptive_field = 10\n",
    "relabelling = False\n",
    "epochs = 100\n",
    "n_folds = 2"
   ]
  },
  {
   "cell_type": "code",
   "execution_count": 63,
   "metadata": {},
   "outputs": [],
   "source": [
    "# Converting Graphs into Matrices:\n",
    "PatchyConverter = GraphConverter(dataset_name, receptive_field)\n",
    "if relabelling:\n",
    "    PatchyConverter.relabel_graphs()\n",
    "\n",
    "# graph_tensor = PatchyConverter.graphs_to_Patchy_tensor()\n",
    "# avg_nodes_per_graph = PatchyConverter.avg_nodes_per_graph\n",
    "\n",
    "# # Getting the labels:\n",
    "# dropbox_loader = DropboxLoader(dataset_name)\n",
    "# graph_labels = dropbox_loader.get_graph_label()\n",
    "# graph_labels = np.array(graph_labels.graph_label)\n"
   ]
  },
  {
   "cell_type": "code",
   "execution_count": 17,
   "metadata": {
    "collapsed": true
   },
   "outputs": [],
   "source": [
    "from GraphConverter import dfadj_to_dict\n",
    "import pynauty as nauty"
   ]
  },
  {
   "cell_type": "code",
   "execution_count": null,
   "metadata": {
    "collapsed": true
   },
   "outputs": [],
   "source": []
  },
  {
   "cell_type": "code",
   "execution_count": 100,
   "metadata": {},
   "outputs": [],
   "source": [
    "x = dfadj_to_dict(PatchyConverter.adj_dict_by_graphId[999])"
   ]
  },
  {
   "cell_type": "code",
   "execution_count": null,
   "metadata": {
    "collapsed": true
   },
   "outputs": [],
   "source": []
  },
  {
   "cell_type": "code",
   "execution_count": null,
   "metadata": {
    "collapsed": true
   },
   "outputs": [],
   "source": []
  },
  {
   "cell_type": "code",
   "execution_count": null,
   "metadata": {
    "collapsed": true
   },
   "outputs": [],
   "source": [
    "for l in PatchyConverter.adj_dict_by_graphId.keys():\n",
    "    df_subset_adj = PatchyConverter.adj_dict_by_graphId[l]\n",
    "    temp_graph_dict = dfadj_to_dict(df_subset_adj)\n",
    "    try:\n",
    "        nauty_graph = nauty.Graph(len(temp_graph_dict), adjacency_dict=temp_graph_dict)\n",
    "    except:\n",
    "        nauty_graph = nauty.Graph(len(temp_graph_dict)+1, adjacency_dict=temp_graph_dict)\n",
    "        print('problems with graph number : {}'.format(l))\n",
    "        pass"
   ]
  },
  {
   "cell_type": "code",
   "execution_count": null,
   "metadata": {
    "collapsed": true
   },
   "outputs": [],
   "source": [
    "nauty_graph = nauty.Graph(len(temp_graph_dict), adjacency_dict=temp_graph_dict)"
   ]
  },
  {
   "cell_type": "code",
   "execution_count": null,
   "metadata": {
    "collapsed": true
   },
   "outputs": [],
   "source": []
  },
  {
   "cell_type": "code",
   "execution_count": null,
   "metadata": {
    "collapsed": true
   },
   "outputs": [],
   "source": []
  },
  {
   "cell_type": "code",
   "execution_count": null,
   "metadata": {
    "collapsed": true
   },
   "outputs": [],
   "source": []
  },
  {
   "cell_type": "code",
   "execution_count": null,
   "metadata": {
    "collapsed": true
   },
   "outputs": [],
   "source": []
  },
  {
   "cell_type": "code",
   "execution_count": 42,
   "metadata": {},
   "outputs": [
    {
     "data": {
      "text/plain": [
       "defaultdict(list,\n",
       "            {0: [43],\n",
       "             2: [21],\n",
       "             3: [40, 44],\n",
       "             4: [12, 14, 26],\n",
       "             5: [10, 18, 25],\n",
       "             6: [15, 16],\n",
       "             7: [22, 27],\n",
       "             8: [19, 25],\n",
       "             9: [33, 35],\n",
       "             10: [5, 11, 19],\n",
       "             11: [10, 15, 21],\n",
       "             12: [4, 13],\n",
       "             13: [12, 16],\n",
       "             14: [4, 17],\n",
       "             15: [6, 11, 23],\n",
       "             16: [6, 13],\n",
       "             17: [14, 22],\n",
       "             18: [5, 20, 28],\n",
       "             19: [8, 10, 24],\n",
       "             20: [18, 21, 29],\n",
       "             21: [2, 11, 20],\n",
       "             22: [7, 17],\n",
       "             23: [15, 24],\n",
       "             24: [19, 23],\n",
       "             25: [5, 8],\n",
       "             26: [4],\n",
       "             27: [7, 30, 31],\n",
       "             28: [18, 32],\n",
       "             29: [20, 34],\n",
       "             30: [27, 33, 36],\n",
       "             31: [27, 35, 37],\n",
       "             32: [28, 34],\n",
       "             33: [9, 30, 38],\n",
       "             34: [29, 32],\n",
       "             35: [9, 31, 39],\n",
       "             36: [30, 40],\n",
       "             37: [31, 42],\n",
       "             38: [33, 41],\n",
       "             39: [35, 43],\n",
       "             40: [3, 36, 41],\n",
       "             41: [38, 40],\n",
       "             42: [37, 43],\n",
       "             43: [0, 39, 42],\n",
       "             44: [3]})"
      ]
     },
     "execution_count": 42,
     "metadata": {},
     "output_type": "execute_result"
    }
   ],
   "source": [
    "df_subset_adj = PatchyConverter.adj_dict_by_graphId[64]\n",
    "dfadj_to_dict(df_subset_adj)"
   ]
  },
  {
   "cell_type": "code",
   "execution_count": null,
   "metadata": {
    "collapsed": true
   },
   "outputs": [],
   "source": []
  },
  {
   "cell_type": "code",
   "execution_count": 4,
   "metadata": {
    "collapsed": true
   },
   "outputs": [],
   "source": [
    "# Capsule Architecture Parameters:\n",
    "capsule_params = CapsuleParameters()\n",
    "\n",
    "# First conv layer: 'filters', kernel_size)\n",
    "conv_layer_name = 'conv_layer'\n",
    "conv_layer_params = {}\n",
    "conv_layer_params['filters'] = 256\n",
    "conv_layer_params['kernel_size'] = 9\n",
    "conv_layer_params['strides'] = [1, 1]\n",
    "conv_layer_params['padding'] = 'VALID'\n",
    "conv_layer_params['activation'] = 'relu'\n",
    "conv_layer_params['name'] = 'conv1'\n",
    "\n",
    "capsule_params.add_params(conv_layer_params, conv_layer_name)\n",
    "\n",
    "# First Capsule Layer:\n",
    "# [num_output_caps, caps_len,'filters',kernel_size,strides,padding]\n",
    "caps_layer_name = 'caps_layer'\n",
    "caps_layer_params = {}\n",
    "caps_layer_params['filters'] = 256\n",
    "caps_layer_params['kernel_size'] = 2\n",
    "caps_layer_params['strides'] = [2, 2]\n",
    "caps_layer_params['padding'] = 'VALID'\n",
    "caps_layer_params['padding'] = 'VALID'\n",
    "caps_layer_params['n_channels'] = 32\n",
    "caps_layer_params['dim_capsule'] = 8\n",
    "caps_layer_params['name'] = 'caps_layer'\n",
    "capsule_params.add_params(caps_layer_params, caps_layer_name)\n",
    "\n",
    "# Digit Capsule Layer:\n",
    "digit_layer_name = 'digitcaps_layer'\n",
    "digit_layer_params = {}\n",
    "digit_layer_params['n_channels'] = 10\n",
    "digit_layer_params['dim_capsule'] = 16\n",
    "digit_layer_params['name'] = 'digitcaps'\n",
    "capsule_params.add_params(digit_layer_params, digit_layer_name)\n",
    "\n",
    "# Capsule Decoder:\n",
    "decoder_layer = 'decoder_layer'\n",
    "decoder_params = {}\n",
    "decoder_params['first_dense'] = 256  # 250 #512\n",
    "decoder_params['second_dense'] = 512\n",
    "decoder_params['name'] = 'decoder'\n",
    "capsule_params.add_params(decoder_params, decoder_layer)\n",
    "\n",
    "# Training Hyperparameters:\n",
    "\n",
    "args_train = CapsuleTrainingParameters()\n",
    "args_train.verbose = 0\n",
    "if not os.path.exists(args_train.save_dir):\n",
    "    os.makedirs(args_train.save_dir)"
   ]
  },
  {
   "cell_type": "code",
   "execution_count": 5,
   "metadata": {},
   "outputs": [
    {
     "name": "stdout",
     "output_type": "stream",
     "text": [
      "Training in 1 parameter sets\n"
     ]
    }
   ],
   "source": [
    "# Generate list of parameter sets::\n",
    "list_parameter_sets = []\n",
    "#list_parameter_sets.append(args_train)\n",
    "\n",
    "n_epoch_list = [epochs]  # , 150, 200]\n",
    "lr_list = [0.001]  # , 0.005]#[0.0005, 0.001]#, 0.005]\n",
    "lr_decay_list = [0.9]  # , 0.75]#[0.25,0.4]#, 0.75, 1.5]\n",
    "lam_recon_list = [0.392]  # ,0.7] # [0.25,0.4,0.55]\n",
    "\n",
    "for n_epoch in n_epoch_list:\n",
    "    for lr in lr_list:\n",
    "        for lr_decay in lr_decay_list:\n",
    "            for lam_recon in lam_recon_list:\n",
    "                training_params = CapsuleTrainingParameters(epochs=n_epoch,\n",
    "                                                            lr=lr,\n",
    "                                                            lr_decay=lr_decay,\n",
    "                                                            lam_recon=lam_recon)\n",
    "                list_parameter_sets.append(training_params)\n",
    "\n",
    "#list_parameter_sets[-1].plot_log = True\n",
    "\n",
    "# Default parameters:\n",
    "print('Training in {} parameter sets'.format(len(list_parameter_sets)))\n"
   ]
  },
  {
   "cell_type": "code",
   "execution_count": null,
   "metadata": {
    "collapsed": true,
    "scrolled": true
   },
   "outputs": [],
   "source": [
    "fold_set = []\n",
    "\n",
    "for j in range(n_folds):\n",
    "    fold_set.append(train_test_split(graph_tensor,\n",
    "                                     graph_labels,\n",
    "                                     test_size=0.10,\n",
    "                                     random_state=j))\n",
    "results_df = []\n",
    "val_acc = []\n",
    "for i, parameter_set in enumerate(list_parameter_sets):\n",
    "    for j in range(n_folds):\n",
    "\n",
    "        x_train, x_test, y_train, y_test = fold_set[j]\n",
    "        data = ((x_train, y_train), (x_test, y_test))\n",
    "        input_shape = x_train.shape[1:]\n",
    "        parameter_set.add_fold(i)\n",
    "\n",
    "        patchy_classifier = GraphClassifier(input_shape)\n",
    "        patchy_classifier.build_the_graph(capsule_params)\n",
    "        patchy_classifier.train(data, parameter_set)\n",
    "\n",
    "\n",
    "        val_acc.append(patchy_classifier.results.val_capsnet_acc)\n",
    "\n",
    "        #if i == 0:\n",
    "        results_df.append(pd.DataFrame(patchy_classifier.results))\n",
    "        #else:\n",
    "        print('Set of parameters {} trained '.format(i + 1))"
   ]
  },
  {
   "cell_type": "code",
   "execution_count": null,
   "metadata": {
    "collapsed": true
   },
   "outputs": [],
   "source": []
  },
  {
   "cell_type": "code",
   "execution_count": null,
   "metadata": {
    "collapsed": true
   },
   "outputs": [],
   "source": []
  },
  {
   "cell_type": "code",
   "execution_count": null,
   "metadata": {
    "collapsed": true
   },
   "outputs": [],
   "source": []
  },
  {
   "cell_type": "code",
   "execution_count": null,
   "metadata": {
    "collapsed": true
   },
   "outputs": [],
   "source": []
  },
  {
   "cell_type": "code",
   "execution_count": null,
   "metadata": {
    "collapsed": true
   },
   "outputs": [],
   "source": []
  },
  {
   "cell_type": "code",
   "execution_count": null,
   "metadata": {
    "collapsed": true
   },
   "outputs": [],
   "source": [
    "score = patchy_classifier.train_model.evaluate([[patchy_classifier.x_test, patchy_classifier.y_test],patchy_classifier.y_test, patchy_classifier.x_test], verbose=0)\n",
    "print('Test loss:', score[0])\n",
    "print('Test accuracy:', score[1])\n",
    "\n",
    "plt.plot(range(patchy_cnn.epochs), patchy_cnn.history.acc)\n",
    "plt.legend('train data',loc='lower center')\n",
    "plt.plot(range(patchy_cnn.epochs), patchy_cnn.history.val_acc)\n",
    "plt.legend('test data')\n",
    "plt.xlabel('Epochs')\n",
    "plt.ylabel('Accuracy')\n",
    "plt.show()"
   ]
  },
  {
   "cell_type": "code",
   "execution_count": null,
   "metadata": {
    "collapsed": true
   },
   "outputs": [],
   "source": []
  },
  {
   "cell_type": "code",
   "execution_count": null,
   "metadata": {
    "collapsed": true
   },
   "outputs": [],
   "source": []
  },
  {
   "cell_type": "code",
   "execution_count": null,
   "metadata": {
    "collapsed": true
   },
   "outputs": [],
   "source": []
  }
 ],
 "metadata": {
  "kernelspec": {
   "display_name": "Python 3",
   "language": "python",
   "name": "python3"
  },
  "language_info": {
   "codemirror_mode": {
    "name": "ipython",
    "version": 3
   },
   "file_extension": ".py",
   "mimetype": "text/x-python",
   "name": "python",
   "nbconvert_exporter": "python",
   "pygments_lexer": "ipython3",
   "version": "3.6.3"
  }
 },
 "nbformat": 4,
 "nbformat_minor": 2
}
