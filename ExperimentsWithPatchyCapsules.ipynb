{
 "cells": [
  {
   "cell_type": "code",
   "execution_count": 1,
   "metadata": {},
   "outputs": [
    {
     "name": "stderr",
     "output_type": "stream",
     "text": [
      "/anaconda3/lib/python3.6/site-packages/h5py/__init__.py:34: FutureWarning: Conversion of the second argument of issubdtype from `float` to `np.floating` is deprecated. In future, it will be treated as `np.float64 == np.dtype(float).type`.\n",
      "  from ._conv import register_converters as _register_converters\n",
      "Using TensorFlow backend.\n"
     ]
    }
   ],
   "source": [
    "import os\n",
    "import sys\n",
    "from time import time\n",
    "from PIL import Image\n",
    "import pandas as pd\n",
    "import numpy as np\n",
    "from sklearn.model_selection import train_test_split\n",
    "import networkx as nx\n",
    "import random\n",
    "\n",
    "from keras import layers, models, optimizers\n",
    "from keras import backend as K\n",
    "K.set_image_data_format('channels_last')\n",
    "from keras.utils import to_categorical\n",
    "from keras.preprocessing.image import ImageDataGenerator\n",
    "from keras import callbacks\n",
    "\n",
    "\n",
    "from utils import combine_images\n",
    "from utils import plot_log\n",
    "\n",
    "from capsulelayers import CapsuleLayer, PrimaryCap, Length, Mask\n",
    "sys.path.append('./PatchyTools/')\n",
    "from GraphConverter import GraphConverter\n",
    "from DropboxLoader import DropboxLoader\n",
    "from CapsuleParameters import CapsuleParameters\n",
    "from CapsuleParameters import CapsuleTrainingParameters\n",
    "from GraphClassifier import GraphClassifier\n",
    "\n",
    "\n",
    "import matplotlib.pyplot as plt\n",
    "%matplotlib inline"
   ]
  },
  {
   "cell_type": "markdown",
   "metadata": {},
   "source": [
    "### Load data"
   ]
  },
  {
   "cell_type": "code",
   "execution_count": 2,
   "metadata": {
    "collapsed": true
   },
   "outputs": [],
   "source": [
    "# Getting the data:\n",
    "dataset_name = 'PTC_MM'\n",
    "width = 18\n",
    "receptive_field = 10\n",
    "relabeling = True"
   ]
  },
  {
   "cell_type": "code",
   "execution_count": 3,
   "metadata": {},
   "outputs": [],
   "source": [
    "# Getting the labels:\n",
    "dropbox_loader = DropboxLoader(dataset_name)\n",
    "# Importing graph features:\n",
    "df_edge_label = dropbox_loader.get_edge_label()\n",
    "df_graph_ind = dropbox_loader.get_graph_ind()\n",
    "df_adj = dropbox_loader.get_adj()\n",
    "df_node_label = dropbox_loader.get_node_label()\n",
    "df_node_label = pd.concat([df_node_label, df_graph_ind.graph_ind], axis=1)\n",
    "# Getting the labels:\n",
    "dropbox_loader = DropboxLoader(dataset_name)\n",
    "graph_labels = dropbox_loader.get_graph_label()\n",
    "graph_labels = np.array(graph_labels.graph_label)"
   ]
  },
  {
   "cell_type": "code",
   "execution_count": 4,
   "metadata": {
    "collapsed": true
   },
   "outputs": [],
   "source": [
    "# Adjeceny dict and \n",
    "PatchyConverter = GraphConverter(dataset_name, receptive_field)\n",
    "adj_dict = PatchyConverter.create_adj_dict_by_graphId()\n",
    "adj_coomatrix_by_graphId = PatchyConverter.create_adj_coomatrix_by_graphId(adj_dict)\n",
    "#cano_label = canonical_labeling(adj_dict, df_node_label, df_adj)"
   ]
  },
  {
   "cell_type": "code",
   "execution_count": null,
   "metadata": {
    "collapsed": true
   },
   "outputs": [],
   "source": [
    "# Importing graph features:\n",
    "#df_edge_label = dropbox_loader.get_edge_label()\n",
    "df_graph_ind = dropbox_loader.get_graph_ind()\n",
    "df_adj = dropbox_loader.get_adj()\n",
    "df_node_label = dropbox_loader.get_node_label()\n",
    "df_node_label = pd.concat([df_node_label, df_graph_ind.graph_ind], axis=1)"
   ]
  },
  {
   "cell_type": "code",
   "execution_count": null,
   "metadata": {},
   "outputs": [],
   "source": [
    "# Converting Graphs into Matrices:\n",
    "if relabeling:\n",
    "    PatchyConverter.relabel_graphs()\n",
    "graph_tensor = PatchyConverter.graphs_to_Patchy_tensor()"
   ]
  },
  {
   "cell_type": "code",
   "execution_count": null,
   "metadata": {
    "collapsed": true
   },
   "outputs": [],
   "source": [
    "# Capsule Architecture Parameters:\n",
    "capsule_params= CapsuleParameters()\n",
    "\n",
    "# First conv layer: 'filters', kernel_size)\n",
    "conv_layer_name = 'conv_layer'\n",
    "conv_layer_params = {}\n",
    "conv_layer_params['filters'] = 256\n",
    "conv_layer_params['kernel_size'] = 9\n",
    "conv_layer_params['strides'] = [1, 1]\n",
    "conv_layer_params['padding'] = 'VALID'\n",
    "conv_layer_params['activation'] = 'relu'\n",
    "conv_layer_params['name'] = 'conv1'\n",
    "\n",
    "capsule_params.add_params(conv_layer_params,conv_layer_name)\n",
    "\n",
    "# First Capsule Layer:\n",
    "# [num_output_caps, caps_len,'filters',kernel_size,strides,padding]\n",
    "caps_layer_name = 'caps_layer'\n",
    "caps_layer_params = {}\n",
    "caps_layer_params['filters'] = 256\n",
    "caps_layer_params['kernel_size'] = 2\n",
    "caps_layer_params['strides'] = [2,2]\n",
    "caps_layer_params['padding'] = 'VALID'\n",
    "caps_layer_params['padding'] = 'VALID'\n",
    "caps_layer_params['n_channels'] = 32\n",
    "caps_layer_params['dim_capsule'] = 8\n",
    "caps_layer_params['name'] = 'caps_layer'\n",
    "capsule_params.add_params(caps_layer_params,caps_layer_name)\n",
    "\n",
    "# Digit Capsule Layer:\n",
    "digit_layer_name = 'digitcaps_layer'\n",
    "digit_layer_params = {}\n",
    "digit_layer_params['n_channels'] = 10\n",
    "digit_layer_params['dim_capsule'] = 16\n",
    "digit_layer_params['name'] = 'digitcaps'\n",
    "capsule_params.add_params(digit_layer_params,digit_layer_name )\n",
    "\n",
    "# Capsule Decoder:\n",
    "decoder_layer = 'decoder_layer'\n",
    "decoder_params = {}\n",
    "decoder_params['first_dense'] = 256 #250 #512\n",
    "decoder_params['second_dense'] = 512\n",
    "decoder_params['name'] = 'decoder'\n",
    "capsule_params.add_params(decoder_params,decoder_layer)\n"
   ]
  },
  {
   "cell_type": "code",
   "execution_count": null,
   "metadata": {
    "collapsed": true
   },
   "outputs": [],
   "source": [
    "parameter_set = CapsuleTrainingParameters()\n",
    "parameter_set.add_fold(1)\n",
    "parameter_set.epochs= 5"
   ]
  },
  {
   "cell_type": "code",
   "execution_count": null,
   "metadata": {
    "collapsed": true
   },
   "outputs": [],
   "source": [
    "x_train, x_test, y_train, y_test = train_test_split(graph_tensor,graph_labels,test_size=0.10,random_state=1)\n",
    "data = ((x_train, y_train), (x_test, y_test))\n",
    "input_shape = x_train.shape[1:]"
   ]
  },
  {
   "cell_type": "code",
   "execution_count": null,
   "metadata": {},
   "outputs": [],
   "source": [
    "patchy_classifier = GraphClassifier(input_shape)\n",
    "patchy_classifier.build_the_graph(capsule_params)\n",
    "patchy_classifier.train(data, parameter_set)"
   ]
  },
  {
   "cell_type": "code",
   "execution_count": null,
   "metadata": {},
   "outputs": [],
   "source": [
    "patchy_classifier.results.rename('wegewg',inplace=True)"
   ]
  },
  {
   "cell_type": "code",
   "execution_count": null,
   "metadata": {
    "collapsed": true
   },
   "outputs": [],
   "source": [
    "patchy_classifier.results.name"
   ]
  },
  {
   "cell_type": "code",
   "execution_count": null,
   "metadata": {
    "collapsed": true
   },
   "outputs": [],
   "source": []
  }
 ],
 "metadata": {
  "kernelspec": {
   "display_name": "Python 3",
   "language": "python",
   "name": "python3"
  },
  "language_info": {
   "codemirror_mode": {
    "name": "ipython",
    "version": 3
   },
   "file_extension": ".py",
   "mimetype": "text/x-python",
   "name": "python",
   "nbconvert_exporter": "python",
   "pygments_lexer": "ipython3",
   "version": "3.6.3"
  }
 },
 "nbformat": 4,
 "nbformat_minor": 2
}
